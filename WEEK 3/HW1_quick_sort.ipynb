{
 "cells": [
  {
   "cell_type": "code",
   "execution_count": 3,
   "metadata": {},
   "outputs": [],
   "source": [
    "def quick_sort(lista):\n",
    "    small = [] #小於基準值\n",
    "    equ = [] #等於基準值\n",
    "    big = [] #大於基準值\n",
    "    #狀況一：數列中空值或是只有一個值\n",
    "    if len(lista) <= 1:\n",
    "        return lista\n",
    "    \n",
    "    #狀況二：\n",
    "    base = lista[0] #令數列中第一個為基準\n",
    "    if len(lista) > 1:\n",
    "        for i in range(0,len(lista)):\n",
    "            if base > lista[i]: #base大於值，要在small加入值\n",
    "                small.append(lista[i])\n",
    "            elif base == lista[i]: #base等於值，要在equ加入值\n",
    "                equ.append(lista[i])\n",
    "            else: #base小於值，要在big加入值\n",
    "                big.append(lista[i]) \n",
    "        small = quick_sort(small) #小於基準的值要回去再做一次quick_sort\n",
    "        big = quick_sort(big) #大於基準的值要回去再做一次quick_sort\n",
    "    lista = small + equ + big #將大於、等於、小於合併\n",
    "    return lista #執行迴圈"
   ]
  },
  {
   "cell_type": "code",
   "execution_count": 4,
   "metadata": {},
   "outputs": [
    {
     "data": {
      "text/plain": [
       "[1, 9, 12, 16, 28, 53, 76]"
      ]
     },
     "execution_count": 4,
     "metadata": {},
     "output_type": "execute_result"
    }
   ],
   "source": [
    "lista = [12,76,53,28,16,1,9]\n",
    "quick_sort(lista)"
   ]
  },
  {
   "cell_type": "markdown",
   "metadata": {},
   "source": [
    "# 一開始想的時候，只有想到說要跟基準點比大小後，分別丟入大於、等於、小於，並沒有想到說在第一輪分完後，要怎麼繼續分組排列。再來，我那個時候也沒有想到如果一串數列中，只有一個值，或是空值的情況下。所以我從書看到其他的想法（詳情請看流程圖二）"
   ]
  }
 ],
 "metadata": {
  "kernelspec": {
   "display_name": "Python 3",
   "language": "python",
   "name": "python3"
  },
  "language_info": {
   "codemirror_mode": {
    "name": "ipython",
    "version": 3
   },
   "file_extension": ".py",
   "mimetype": "text/x-python",
   "name": "python",
   "nbconvert_exporter": "python",
   "pygments_lexer": "ipython3",
   "version": "3.7.1"
  }
 },
 "nbformat": 4,
 "nbformat_minor": 2
}
