{
 "cells": [
  {
   "cell_type": "markdown",
   "metadata": {},
   "source": [
    "在一開始寫得時候，只有想到說要將數值跟基準值比大小後，分別裝到三個箱子中。\n",
    "但是那個時候在想，分完第一次後，要進行第二層的分法會出問題，所以，我放棄了分裝的方式。\n",
    "後來，我在書中看到一個作法，他先找到一個基準值後，由基準值往後找比基準值大的數叫做i，\n",
    "並由基準值往後找比基準值小的數叫做j，然後ij交換。重複這個動作直到ij相鄰，\n",
    "將基準值插入ij之間，則基準的位置固定。重新找基準值進行上述步驟（可以參考流程圖2）\n",
    "但是，這個有一個問題，就是弱ij交換位置後，中間還有一個數時，這個是要跟機種值比大小，\n",
    "會有點麻煩。最後在上課同學分享時，發現其實一開始的想法沒有錯，\n",
    "只是沒有考慮到可能只有一個元素，或是空直的情形，還有在自定方程式中呼叫方程式的情況。"
   ]
  },
  {
   "cell_type": "markdown",
   "metadata": {},
   "source": [
    "![流程圖](https://github.com/yenchungLin/study/blob/master/homework助教請開/HW1/quick_sort.png)"
   ]
  },
  {
   "cell_type": "markdown",
   "metadata": {},
   "source": [
    "![流程圖](https://github.com/yenchungLin/study/blob/master/homework助教請開/HW1/quick_sort2.png)"
   ]
  },
  {
   "cell_type": "code",
   "execution_count": 9,
   "metadata": {},
   "outputs": [],
   "source": [
    "def quick_sort(a):\n",
    "    small = [] #小於基準點\n",
    "    equ = [] #等於基準點\n",
    "    big = [] #大於基準點\n",
    "\n",
    "    #若只有一個元素或是空值\n",
    "    if len(a) <2:\n",
    "        return a\n",
    "    \n",
    "    #若兩個或兩個以上元素\n",
    "    else:\n",
    "        base = a[0] #令第一個為基準點\n",
    "        for i in range(0,len(a)):\n",
    "            if a[i] > base:\n",
    "                big.append(a[i]) #若a[i]大於base，在big中增加a[i]\n",
    "            elif a[i] == base:\n",
    "                equ.append(a[i]) #若a[i]等於base，在equ中增加a[i]\n",
    "            else:\n",
    "                small.append(a[i]) #若a[i]小於base，在small中增加a[i]\n",
    "        \n",
    "    small = quick_sort(small) #將小於的再重新跑回圈\n",
    "    big = quick_sort(big) #將大於的再重新跑回圈\n",
    "    a = small + equ +big \n",
    "    return a"
   ]
  },
  {
   "cell_type": "code",
   "execution_count": 10,
   "metadata": {},
   "outputs": [
    {
     "data": {
      "text/plain": [
       "[0, 3, 15, 18, 27, 57, 66, 157, 240]"
      ]
     },
     "execution_count": 10,
     "metadata": {},
     "output_type": "execute_result"
    }
   ],
   "source": [
    "a = [3,15,27,0,18,157,240,57,66]\n",
    "quick_sort(a)"
   ]
  }
 ],
 "metadata": {
  "kernelspec": {
   "display_name": "Python 3",
   "language": "python",
   "name": "python3"
  },
  "language_info": {
   "codemirror_mode": {
    "name": "ipython",
    "version": 3
   },
   "file_extension": ".py",
   "mimetype": "text/x-python",
   "name": "python",
   "nbconvert_exporter": "python",
   "pygments_lexer": "ipython3",
   "version": "3.7.1"
  }
 },
 "nbformat": 4,
 "nbformat_minor": 2
}
