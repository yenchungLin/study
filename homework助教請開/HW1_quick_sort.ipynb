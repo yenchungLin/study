{
 "cells": [
  {
   "cell_type": "code",
   "execution_count": 9,
   "metadata": {},
   "outputs": [],
   "source": [
    "def quick_sort(a):\n",
    "    small = [] #小於基準點\n",
    "    equ = [] #等於基準點\n",
    "    big = [] #大於基準點\n",
    "\n",
    "    #若只有一個元素或是空值\n",
    "    if len(a) <2:\n",
    "        return a\n",
    "    \n",
    "    #若兩個或兩個以上元素\n",
    "    else:\n",
    "        base = a[0] #令第一個為基準點\n",
    "        for i in range(0,len(a)):\n",
    "            if a[i] > base:\n",
    "                big.append(a[i]) #若a[i]大於base，在big中增加a[i]\n",
    "            elif a[i] == base:\n",
    "                equ.append(a[i]) #若a[i]等於base，在equ中增加a[i]\n",
    "            else:\n",
    "                small.append(a[i]) #若a[i]小於base，在small中增加a[i]\n",
    "        \n",
    "    small = quick_sort(small) #將小於的再重新跑回圈\n",
    "    big = quick_sort(big) #將大於的再重新跑回圈\n",
    "    a = small + equ +big \n",
    "    return a"
   ]
  },
  {
   "cell_type": "code",
   "execution_count": 10,
   "metadata": {},
   "outputs": [
    {
     "data": {
      "text/plain": [
       "[0, 3, 15, 18, 27, 57, 66, 157, 240]"
      ]
     },
     "execution_count": 10,
     "metadata": {},
     "output_type": "execute_result"
    }
   ],
   "source": [
    "a = [3,15,27,0,18,157,240,57,66]\n",
    "quick_sort(a)"
   ]
  },
  {
   "cell_type": "code",
   "execution_count": null,
   "metadata": {},
   "outputs": [],
   "source": []
  }
 ],
 "metadata": {
  "kernelspec": {
   "display_name": "Python 3",
   "language": "python",
   "name": "python3"
  },
  "language_info": {
   "codemirror_mode": {
    "name": "ipython",
    "version": 3
   },
   "file_extension": ".py",
   "mimetype": "text/x-python",
   "name": "python",
   "nbconvert_exporter": "python",
   "pygments_lexer": "ipython3",
   "version": "3.7.1"
  }
 },
 "nbformat": 4,
 "nbformat_minor": 2
}
