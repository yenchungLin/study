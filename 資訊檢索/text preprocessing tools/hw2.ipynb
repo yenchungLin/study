{
 "cells": [
  {
   "cell_type": "markdown",
   "metadata": {},
   "source": [
    "#分別使用stanza 和 ckiptagger中文斷詞工具，對‘ title’和‘ content’進行斷詞\n",
    "•建立並使用自定義字典，改善斷詞精準度\n",
    "•由小組成員觀察與討論\n",
    "•上傳程式碼\n",
    "•自定義字典需另存於’學號_userdefine.txt’文字檔，並上傳到Moodle\n",
    "•斷詞結果上傳到Moodle\n",
    "#請於原檔案cts_0301_0403_news.json中，加入 ‘title_stanza_segment’、’ content_stanza_segment’、‘title_ckiptagger_segment’和’ content_ckiptagger_segment’\n",
    "•斷詞完後，以list資料類型儲存，僅保留文字即可，ex:史丹很帥 -> ['史丹', '很', '帥']\n",
    "•另存檔新檔為’ 學號_cts_0301_0403_news.json’\n",
    "•並保持一行一個 JSON string"
   ]
  },
  {
   "cell_type": "markdown",
   "metadata": {},
   "source": [
    "CKIPTAGGER"
   ]
  },
  {
   "cell_type": "code",
   "execution_count": 15,
   "metadata": {},
   "outputs": [],
   "source": [
    "from ckiptagger import data_utils,construct_dictionary,WS,POS,NER\n",
    "from pathlib import Path\n",
    "import os\n",
    "import json"
   ]
  },
  {
   "cell_type": "code",
   "execution_count": 16,
   "metadata": {},
   "outputs": [],
   "source": [
    "path = '/Users/yulin/ckip'"
   ]
  },
  {
   "cell_type": "code",
   "execution_count": 17,
   "metadata": {},
   "outputs": [],
   "source": [
    "open_data = open(\"/Users/yulin/Documents/資訊類別/資訊檢索導論/回家作業/cts_0301_0403_news.json\")"
   ]
  },
  {
   "cell_type": "code",
   "execution_count": 18,
   "metadata": {},
   "outputs": [
    {
     "output_type": "stream",
     "name": "stdout",
     "text": "WARNING: Entity <bound method LSTMCell.call of <tensorflow.python.ops.rnn_cell_impl.LSTMCell object at 0x13643bfd0>> could not be transformed and will be executed as-is. Please report this to the AutgoGraph team. When filing the bug, set the verbosity to 10 (on Linux, `export AUTOGRAPH_VERBOSITY=10`) and attach the full output. Cause: converting <bound method LSTMCell.call of <tensorflow.python.ops.rnn_cell_impl.LSTMCell object at 0x13643bfd0>>: AttributeError: module 'gast' has no attribute 'Num'\nWARNING: Entity <bound method LSTMCell.call of <tensorflow.python.ops.rnn_cell_impl.LSTMCell object at 0x135290e80>> could not be transformed and will be executed as-is. Please report this to the AutgoGraph team. When filing the bug, set the verbosity to 10 (on Linux, `export AUTOGRAPH_VERBOSITY=10`) and attach the full output. Cause: converting <bound method LSTMCell.call of <tensorflow.python.ops.rnn_cell_impl.LSTMCell object at 0x135290e80>>: AttributeError: module 'gast' has no attribute 'Num'\nWARNING: Entity <bound method LSTMCell.call of <tensorflow.python.ops.rnn_cell_impl.LSTMCell object at 0x12f3fbc88>> could not be transformed and will be executed as-is. Please report this to the AutgoGraph team. When filing the bug, set the verbosity to 10 (on Linux, `export AUTOGRAPH_VERBOSITY=10`) and attach the full output. Cause: converting <bound method LSTMCell.call of <tensorflow.python.ops.rnn_cell_impl.LSTMCell object at 0x12f3fbc88>>: AttributeError: module 'gast' has no attribute 'Num'\nWARNING: Entity <bound method LSTMCell.call of <tensorflow.python.ops.rnn_cell_impl.LSTMCell object at 0x1364549b0>> could not be transformed and will be executed as-is. Please report this to the AutgoGraph team. When filing the bug, set the verbosity to 10 (on Linux, `export AUTOGRAPH_VERBOSITY=10`) and attach the full output. Cause: converting <bound method LSTMCell.call of <tensorflow.python.ops.rnn_cell_impl.LSTMCell object at 0x1364549b0>>: AttributeError: module 'gast' has no attribute 'Num'\nWARNING: Entity <bound method Dense.call of <tensorflow.python.layers.core.Dense object at 0x1309085c0>> could not be transformed and will be executed as-is. Please report this to the AutgoGraph team. When filing the bug, set the verbosity to 10 (on Linux, `export AUTOGRAPH_VERBOSITY=10`) and attach the full output. Cause: converting <bound method Dense.call of <tensorflow.python.layers.core.Dense object at 0x1309085c0>>: AssertionError: Bad argument number for Name: 3, expecting 4\n"
    }
   ],
   "source": [
    "# initialize Chinese neural pipeline\n",
    "zh_ws = WS(path+\"/data\")"
   ]
  },
  {
   "cell_type": "code",
   "execution_count": 4,
   "metadata": {},
   "outputs": [],
   "source": [
    "#title\n",
    "title_ckiptagger_segment = []\n",
    "for line in open_data.readlines():\n",
    "    json_data = json.loads(line)\n",
    "    title_ckiptagger_segment.append(json_data['title_ckiptagger_segment'])"
   ]
  },
  {
   "cell_type": "code",
   "execution_count": 19,
   "metadata": {},
   "outputs": [],
   "source": [
    "#content\n",
    "content_ckiptagger_segment = []\n",
    "for line in open_data.readlines():\n",
    "    json_data = json.loads(line)\n",
    "    content_ckiptagger_segment.append(json_data['content'])"
   ]
  },
  {
   "cell_type": "code",
   "execution_count": 20,
   "metadata": {
    "tags": [
     "outputPrepend",
     "outputPrepend",
     "outputPrepend",
     "outputPrepend",
     "outputPrepend",
     "outputPrepend",
     "outputPrepend",
     "outputPrepend",
     "outputPrepend",
     "outputPrepend",
     "outputPrepend",
     "outputPrepend",
     "outputPrepend",
     "outputPrepend",
     "outputPrepend",
     "outputPrepend",
     "outputPrepend",
     "outputPrepend",
     "outputPrepend",
     "outputPrepend",
     "outputPrepend",
     "outputPrepend",
     "outputPrepend",
     "outputPrepend",
     "outputPrepend",
     "outputPrepend",
     "outputPrepend",
     "outputPrepend",
     "outputPrepend",
     "outputPrepend",
     "outputPrepend",
     "outputPrepend",
     "outputPrepend",
     "outputPrepend",
     "outputPrepend",
     "outputPrepend",
     "outputPrepend",
     "outputPrepend",
     "outputPrepend",
     "outputPrepend",
     "outputPrepend",
     "outputPrepend",
     "outputPrepend",
     "outputPrepend",
     "outputPrepend",
     "outputPrepend",
     "outputPrepend",
     "outputPrepend",
     "outputPrepend",
     "outputPrepend",
     "outputPrepend",
     "outputPrepend",
     "outputPrepend",
     "outputPrepend",
     "outputPrepend",
     "outputPrepend",
     "outputPrepend",
     "outputPrepend",
     "outputPrepend",
     "outputPrepend",
     "outputPrepend",
     "outputPrepend",
     "outputPrepend",
     "outputPrepend",
     "outputPrepend",
     "outputPrepend",
     "outputPrepend",
     "outputPrepend",
     "outputPrepend",
     "outputPrepend",
     "outputPrepend",
     "outputPrepend",
     "outputPrepend",
     "outputPrepend",
     "outputPrepend",
     "outputPrepend",
     "outputPrepend",
     "outputPrepend",
     "outputPrepend",
     "outputPrepend",
     "outputPrepend",
     "outputPrepend",
     "outputPrepend",
     "outputPrepend",
     "outputPrepend",
     "outputPrepend",
     "outputPrepend",
     "outputPrepend",
     "outputPrepend",
     "outputPrepend",
     "outputPrepend",
     "outputPrepend",
     "outputPrepend",
     "outputPrepend"
    ]
   },
   "outputs": [
    {
     "output_type": "error",
     "ename": "NameError",
     "evalue": "name 'title_ckiptagger_segment' is not defined",
     "traceback": [
      "\u001b[0;31m---------------------------------------------------------------------------\u001b[0m",
      "\u001b[0;31mNameError\u001b[0m                                 Traceback (most recent call last)",
      "\u001b[0;32m<ipython-input-20-cfb380dcd857>\u001b[0m in \u001b[0;36m<module>\u001b[0;34m\u001b[0m\n\u001b[1;32m      1\u001b[0m \u001b[0;31m# test title斷詞\u001b[0m\u001b[0;34m\u001b[0m\u001b[0;34m\u001b[0m\u001b[0;34m\u001b[0m\u001b[0m\n\u001b[1;32m      2\u001b[0m \u001b[0;32mfor\u001b[0m \u001b[0mi\u001b[0m \u001b[0;32min\u001b[0m \u001b[0mrange\u001b[0m\u001b[0;34m(\u001b[0m\u001b[0;36m2730\u001b[0m\u001b[0;34m,\u001b[0m\u001b[0;36m2750\u001b[0m\u001b[0;34m)\u001b[0m\u001b[0;34m:\u001b[0m\u001b[0;34m\u001b[0m\u001b[0;34m\u001b[0m\u001b[0m\n\u001b[0;32m----> 3\u001b[0;31m     \u001b[0mzh_annotated_ws_title\u001b[0m \u001b[0;34m=\u001b[0m \u001b[0mzh_ws\u001b[0m\u001b[0;34m(\u001b[0m\u001b[0;34m[\u001b[0m\u001b[0mtitle_ckiptagger_segment\u001b[0m\u001b[0;34m[\u001b[0m\u001b[0mi\u001b[0m\u001b[0;34m]\u001b[0m\u001b[0;34m]\u001b[0m\u001b[0;34m)\u001b[0m\u001b[0;34m\u001b[0m\u001b[0;34m\u001b[0m\u001b[0m\n\u001b[0m\u001b[1;32m      4\u001b[0m     \u001b[0;32mfor\u001b[0m \u001b[0mi\u001b[0m\u001b[0;34m,\u001b[0m\u001b[0msentence\u001b[0m \u001b[0;32min\u001b[0m \u001b[0menumerate\u001b[0m\u001b[0;34m(\u001b[0m\u001b[0mzh_annotated_ws_title\u001b[0m\u001b[0;34m)\u001b[0m\u001b[0;34m:\u001b[0m\u001b[0;34m\u001b[0m\u001b[0;34m\u001b[0m\u001b[0m\n\u001b[1;32m      5\u001b[0m         \u001b[0mprint\u001b[0m\u001b[0;34m(\u001b[0m\u001b[0;34m'sentence {}:'\u001b[0m\u001b[0;34m.\u001b[0m\u001b[0mformat\u001b[0m\u001b[0;34m(\u001b[0m\u001b[0mk\u001b[0m\u001b[0;34m)\u001b[0m\u001b[0;34m)\u001b[0m\u001b[0;34m\u001b[0m\u001b[0;34m\u001b[0m\u001b[0m\n",
      "\u001b[0;31mNameError\u001b[0m: name 'title_ckiptagger_segment' is not defined"
     ]
    }
   ],
   "source": [
    "# test title斷詞\n",
    "for i in range(1821,2729):\n",
    "    zh_annotated_ws_title = zh_ws([title_ckiptagger_segment[i]])\n",
    "    for i,sentence in enumerate(zh_annotated_ws_title):\n",
    "        print('sentence {}:'.format(k))\n",
    "        print('INDEX\\tTEXT')\n",
    "        for j,word in enumerate(sentence):\n",
    "            print('{}\\t{}'.format(j,word))\n",
    "    i = i+1"
   ]
  },
  {
   "cell_type": "code",
   "execution_count": 26,
   "metadata": {
    "tags": [
     "outputPrepend",
     "outputPrepend",
     "outputPrepend",
     "outputPrepend",
     "outputPrepend",
     "outputPrepend",
     "outputPrepend",
     "outputPrepend",
     "outputPrepend",
     "outputPrepend",
     "outputPrepend",
     "outputPrepend",
     "outputPrepend",
     "outputPrepend",
     "outputPrepend",
     "outputPrepend",
     "outputPrepend",
     "outputPrepend",
     "outputPrepend",
     "outputPrepend"
    ]
   },
   "outputs": [
    {
     "output_type": "stream",
     "name": "stdout",
     "text": "0\t蒲依婕\n1\t \n2\t薄懷\n3\t鄭\n4\t \n5\t編譯\n6\t  / \n7\t歐洲\n8\t \n9\t歐洲\n10\t新冠\n11\t病毒\n12\t疫情\n13\t持續\n14\t擴大\n15\t，\n16\t歐盟\n17\t下\n18\t了\n19\t一\n20\t道\n21\t前所未有\n22\t的\n23\t決策\n24\t，\n25\t那\n26\t就\n27\t是\n28\t同意\n29\t關閉\n30\t歐盟\n31\t境\n32\t外\n33\t邊界\n34\t30\n35\t天\n36\t，\n37\t禁止\n38\t非\n39\t必要\n40\t的\n41\t旅遊\n42\t，\n43\t視\n44\t情況\n45\t決定\n46\t實施\n47\t期限\n48\t，\n49\t此外\n50\t蒙特內哥羅\n51\t昨\n52\t(17)\n53\t日\n54\t宣布\n55\t，\n56\t境\n57\t內\n58\t出現\n59\t首\n60\t例\n61\t確診\n62\t病例\n63\t，\n64\t表示\n65\t歐洲\n66\t全\n67\t境\n68\t失守\n69\t。\n70\t新冠\n71\t病毒\n72\t疫情\n73\t橫掃\n74\t歐洲\n75\t，\n76\t位於\n77\t巴爾幹半島\n78\t的\n79\t，蒙特內哥羅\n80\t，\n81\t當地\n82\t時間\n83\t17號\n84\t也\n85\t宣布\n86\t，\n87\t境\n88\t內\n89\t出現\n90\t兩\n91\t例\n92\t確診\n93\t，\n94\t先前\n95\t當地\n96\t民眾\n97\t，\n98\t還\n99\t老神在在\n100\t，\n101\t似乎\n102\t沒有\n103\t意識到\n104\t，\n105\t疫情\n106\t的\n107\t嚴重性\n108\t。\n109\t蒙特內哥羅\n110\t民眾\n111\t弗拉霍維奇\n112\t：\n113\t「\n114\t我們\n115\t蒙特內哥羅人\n116\t，\n117\t習慣\n118\t了\n119\t強大\n120\t的\n121\t病毒\n122\t，\n123\t它們\n124\t無法\n125\t接觸\n126\t我們\n127\t。\n128\t」\n129\t蒙特內哥羅\n130\t出現\n131\t確診\n132\t病例\n133\t，\n134\t代表\n135\t歐洲\n136\t全\n137\t境\n138\t失守\n139\t，\n140\t為了\n141\t防堵\n142\t疫情\n143\t，\n144\t歐盟\n145\t領導人\n146\t在\n147\t召開\n148\t視訊\n149\t會議\n150\t後\n151\t，\n152\t17\n153\t號\n154\t同意\n155\t關閉\n156\t歐盟\n157\t境\n158\t外\n159\t邊界\n160\t30\n161\t天\n162\t，\n163\t避免\n164\t病毒\n165\t擴散\n166\t。\n167\t歐洲\n168\t理事會\n169\t主席\n170\t米歇爾\n171\t：\n172\t「\n173\t我們\n174\t同意\n175\t加強\n176\t外部\n177\t邊境\n178\t(\n179\t管控\n180\t)\n181\t，\n182\t根據\n183\t歐盟\n184\t執委會\n185\t提出\n186\t的\n187\t方法\n188\t，\n189\t暫時\n190\t限制\n191\t歐盟\n192\t非\n193\t必要\n194\t的\n195\t旅遊\n196\t30\n197\t天\n198\t。\n199\t」\n200\t這\n201\t項\n202\t前所未有\n203\t的\n204\t政策\n205\t，\n206\t表示\n207\t所有\n208\t非\n209\t歐盟\n210\t國家\n211\t的\n212\t旅客\n213\t，\n214\t都\n215\t不能\n216\t入境\n217\t歐盟\n218\t，\n219\t不過\n220\t歐盟\n221\t永久\n222\t居民\n223\t，\n224\t或是\n225\t醫護\n226\t人員\n227\t等等\n228\t，\n229\t可\n230\t享有\n231\t例外\n232\t。\n233\t另外\n234\t貨物\n235\t運送\n236\t也\n237\t維持\n238\t正常\n239\t，\n240\t德國\n241\t總理\n242\t梅克爾\n243\t17\n244\t號\n245\t也\n246\t表示\n247\t，\n248\t歐盟\n249\t成員國\n250\t領袖\n251\t同意\n252\t，\n253\t實施\n254\t對\n255\t外\n256\t入境\n257\t禁令\n258\t30\n259\t天\n260\t，\n261\t歐洲\n262\t全\n263\t境\n264\t失守\n265\t，\n266\t現在\n267\t就\n268\t看\n269\t封鎖\n270\t歐盟\n271\t邊境\n272\t，\n273\t能不能\n274\t遏止\n275\t疫情\n276\t擴大\n277\t。\n278\t\n                                                \t\t\n279\t新聞\n280\t來源\n281\t：\n282\t華視\n283\t新聞\n0\t林仙怡\n1\t 方\n2\t起年\n3\t \n4\t報導\n5\t  / \n6\t台北市\n7\t \n8\t疫情\n9\t升溫\n10\t！\n11\t目前\n12\t被\n13\t列入\n14\t旅遊\n15\t疫情\n16\t建議\n17\t第三\n18\t級\n19\t的\n20\t國家\n21\t，\n22\t一共\n23\t有\n24\t97\n25\t國\n26\t和\n27\t1\n28\t個\n29\t地區\n30\t，\n31\t提醒\n32\t國人\n33\t避免\n34\t非\n35\t必要\n36\t旅遊\n37\t，\n38\t更\n39\t衝擊到\n40\t旅遊業\n41\t和\n42\t航空業\n43\t，\n44\t兩\n45\t大\n46\t龍頭\n47\t華航\n48\t長榮\n49\t幾乎\n50\t面臨\n51\t斷航\n52\t的\n53\t困境\n54\t，\n55\t喜鴻\n56\t旅行社\n57\t率先\n58\t宣布\n59\t，\n60\t4月\n61\t30號\n62\t前\n63\t全面\n64\t停止\n65\t出團\n66\t，\n67\t可樂\n68\t和\n69\t雄獅\n70\t也\n71\t跟進\n72\t，\n73\t在\n74\t4月\n75\t底\n76\t前\n77\t取消\n78\t所有\n79\t旅行團\n80\t行程\n81\t。\n82\t每\n83\t接\n84\t一\n85\t通\n86\t電話\n87\t，\n88\t就\n89\t代表\n90\t損失\n91\t一\n92\t位\n93\t客人\n94\t，\n95\t台灣\n96\t民眾\n97\t最\n98\t愛\n99\t去\n100\t的\n101\t日本\n102\t，\n103\t也\n104\t被\n105\t列入\n106\t旅遊\n107\t疫情\n108\t建議\n109\t，\n110\t最\n111\t嚴重\n112\t的\n113\t第三\n114\t級\n115\t。\n116\t喜鴻\n117\t旅行社\n118\t副總陸\n119\t一方\n120\t：\n121\t「\n122\t日本\n123\t本身\n124\t到\n125\t三\n126\t級\n127\t，\n128\t東南亞\n129\t、\n130\t東北亞\n131\t已經\n132\t基本\n133\t上\n134\t全部\n135\t關門\n136\t了\n137\t。\n138\t」\n139\t喜鴻\n140\t旅行社\n141\t開出\n142\t第一\n143\t槍\n144\t，\n145\t宣布\n146\t四月\n147\t底\n148\t前\n149\t全面\n150\t停止\n151\t出團\n152\t，\n153\t易\n154\t遊網\n155\t和\n156\t雄獅\n157\t也\n158\t跟進\n159\t，\n160\t取消\n161\t4月\n162\t底\n163\t前\n164\t的\n165\t出團\n166\t，\n167\t至於\n168\t東南\n169\t正在\n170\t考慮\n171\t是否\n172\t暫停\n173\t。\n174\t退費\n175\t旅客\n176\t：\n177\t「\n178\t政府\n179\t說\n180\t不行\n181\t去\n182\t也\n183\t沒有\n184\t非\n185\t要\n186\t去\n187\t不可\n188\t這樣子\n189\t。\n190\t」\n191\t歐洲\n192\t20\n193\t國\n194\t全面\n195\t提升到\n196\t第三\n197\t級\n198\t，\n199\t華航\n200\t長榮\n201\t營收\n202\t剩下\n203\t不到\n204\t一半\n205\t，\n206\t今年\n207\t才\n208\t宣布\n209\t開航\n210\t的\n211\t星宇\n212\t航空\n213\t，\n214\t三\n215\t個\n216\t航點\n217\t澳門\n218\t檳城\n219\t峴港\n220\t，\n221\t在\n222\t四月\n223\t底\n224\t前\n225\t全面\n226\t停飛\n227\t，\n228\t觀光局\n229\t針對\n230\t旅行\n231\t旅宿\n232\t和\n233\t觀光業\n234\t，\n235\t提出\n236\t貸款\n237\t和\n238\t利息\n239\t補貼\n240\t，\n241\t目前\n242\t已經\n243\t發放\n244\t3億9650萬\n245\t元\n246\t，\n247\t但\n248\t隨著\n249\t疫情\n250\t在\n251\t全球\n252\t不斷\n253\t擴大\n254\t，\n255\t也\n256\t讓\n257\t觀光\n258\t旅遊\n259\t產業\n260\t的\n261\t困境\n262\t，\n263\t更\n264\t是\n265\t雪上加霜\n266\t。\n267\t\n                                                \t\t\n268\t新聞\n269\t來源\n270\t：\n271\t華視\n272\t新聞\n0\t王源澤\n1\t \n2\t薛松乾\n3\t \n4\t報導\n5\t  / \n6\t台北市\n7\t \n8\t台灣\n9\t全面\n10\t境管\n11\t、\n12\t各\n13\t國\n14\t也\n15\t實施\n16\t鎖國\n17\t政策\n18\t，\n19\t現在\n20\t人\n21\t流進\n22\t不\n23\t去\n24\t也\n25\t出\n26\t不\n27\t來\n28\t，\n29\t當然\n30\t也\n31\t可能\n32\t重挫\n33\t我們\n34\t的\n35\t本土\n36\t產業\n37\t，\n38\t經濟部\n39\t今天\n40\t就\n41\t展開\n42\t與\n43\t機電\n44\t金屬\n45\t產業\n46\t業者\n47\t的\n48\t紓困\n49\t座談\n50\t，\n51\t業者\n52\t紛紛\n53\t提出\n54\t要求\n55\t，\n56\t希望\n57\t減稅\n58\t或是\n59\t能否\n60\t優惠\n61\t貸款\n62\t？\n63\t部長\n64\t沈榮津\n65\t說\n66\t了\n67\t，\n68\t一定\n69\t盡力\n70\t幫助\n71\t！\n72\t另外\n73\t，\n74\t現在\n75\t百\n76\t業\n77\t蕭條\n78\t，\n79\t民間\n80\t也\n81\t很\n82\t關心\n83\t電價\n84\t調整\n85\t，\n86\t今\n87\t電價\n88\t審議\n89\t小組\n90\t已經\n91\t決議\n92\t，\n93\t電價\n94\t連\n95\t4\n96\t凍漲\n97\t，\n98\t要\n99\t維持\n100\t住民生\n101\t消費\n102\t動能\n103\t！\n104\t經濟部\n105\t今\n106\t(18)\n107\t日\n108\t展開\n109\t與\n110\t機電\n111\t金屬\n112\t產業\n113\t業者\n114\t的\n115\t紓困\n116\t座談\n117\t，\n118\t會\n119\t後\n120\t部長\n121\t沈榮津\n122\t表示\n123\t，\n124\t針對\n125\t業者\n126\t提出\n127\t的\n128\t要求\n129\t，\n130\t例如\n131\t減稅\n132\t或是\n133\t優惠\n134\t貸款\n135\t，\n136\t一定\n137\t盡力\n138\t幫助\n139\t。\n140\t另外\n141\t，\n142\t民間\n143\t也\n144\t很\n145\t關心\n146\t電價\n147\t調整\n148\t，\n149\t今\n150\t18日\n151\t電價\n152\t審議\n153\t小組\n154\t決議\n155\t，\n156\t電價\n157\t連\n158\t4\n159\t凍\n160\t，\n161\t要\n162\t維持\n163\t住民生\n164\t消費\n165\t動能\n166\t。\n167\t口罩\n168\t一\n169\t片\n170\t一\n171\t片\n172\t，\n173\t從\n174\t機器\n175\t中\n176\t吐出來\n177\t，\n178\t口罩\n179\t國家隊\n180\t動\n181\t起來\n182\t，\n183\t全力\n184\t挺\n185\t台灣\n186\t，\n187\t受到\n188\t新\n189\t冠\n190\t病毒\n191\t疫情\n192\t影響\n193\t的\n194\t機械\n195\t業者\n196\t，\n197\t也\n198\t希望\n199\t政府\n200\t伸出\n201\t援手\n202\t。\n203\t機械\n204\t公會\n205\t理事長\n206\t柯拔希\n207\t：\n208\t「\n209\t銀行\n210\t能夠\n211\t這\n212\t個\n213\t時候\n214\t不要\n215\t抽\n216\t銀根\n217\t，\n218\t能不能\n219\t推出\n220\t低\n221\t利\n222\t的\n223\t融資\n224\t的\n225\t部分\n226\t能不能\n227\t降息\n228\t，\n229\t包括\n230\t在\n231\t研發\n232\t的\n233\t部分\n234\t，\n235\t投資\n236\t抵減\n237\t也\n238\t希望\n239\t能夠\n240\t提升\n241\t。\n242\t」\n243\t航太\n244\t公會\n245\t、\n246\t機車業\n247\t電機\n248\t電子\n249\t公會\n250\t，\n251\t都\n252\t出席\n253\t經濟部\n254\t的\n255\t協調\n256\t座談\n257\t，\n258\t經濟部長\n259\t沈榮津\n260\t也\n261\t承諾\n262\t會\n263\t立刻\n264\t著手\n265\t規劃\n266\t，\n267\t進一步\n268\t的\n269\t紓困\n270\t。\n271\t經濟部長\n272\t沈榮津\n273\t：\n274\t「\n275\t工業局\n276\t所屬\n277\t的\n278\t這些\n279\t工業區\n280\t以及\n281\t加工\n282\t出口區\n283\t，\n284\t所謂\n285\t的\n286\t資金\n287\t的\n288\t部分\n289\t，\n290\t還\n291\t有\n292\t在\n293\t紓困\n294\t的\n295\t部分\n296\t我們\n297\t會\n298\t盡量\n299\t來\n300\t協助\n301\t。\n302\t」\n303\t工業局\n304\t會\n305\t協調\n306\t降租\n307\t，\n308\t紓困\n309\t貸款\n310\t找\n311\t銀行\n312\t。\n313\t至於\n314\t牽動\n315\t民生\n316\t物價\n317\t的\n318\t電價\n319\t是否\n320\t凍漲\n321\t呢\n322\t？\n323\t經濟部\n324\t次長\n325\t曾文生\n326\t：\n327\t「\n328\t布蘭特\n329\t原油\n330\t在\n331\t1月份\n332\t，\n333\t2月份\n334\t都\n335\t維持\n336\t在\n337\t60\n338\t塊\n339\t以上\n340\t，\n341\t到\n342\t了\n343\t3月\n344\t它\n345\t的\n346\t跌幅\n347\t非常\n348\t非常\n349\t深，\n350\t4月\n351\t1號\n352\t的\n353\t電價\n354\t不\n355\t調整\n356\t。\n357\t」\n358\t防疫\n359\t策略\n360\t也\n361\t要\n362\t兼顧\n363\t經濟\n364\t，\n365\t史\n366\t上\n367\t第一\n368\t次\n369\t電價\n370\t連\n371\t四凍\n372\t，\n373\t也\n374\t看出\n375\t政府\n376\t想\n377\t維護\n378\t內需\n379\t的\n380\t決心\n381\t。\n382\t\n                                                \t\t\n383\t新聞\n384\t來源\n385\t：\n386\t華視\n387\t新聞\n0\t黃種瀛\n1\t \n2\t林品鑫\n3\t \n4\t周大翔\n5\t \n6\t報導\n7\t  / \n8\t南投縣\n9\t \n10\t中央\n11\t流行\n12\t疫情\n13\t指揮\n14\t中心\n15\t，\n16\t宣布\n17\t從\n18\t明\n19\t(19)\n20\t日\n21\t凌晨\n22\t零點\n23\t起\n24\t，\n25\t限制\n26\t外籍\n27\t人士\n28\t進入\n29\t台灣\n30\t，\n31\t也\n32\t讓\n33\t國內\n34\t觀光業\n35\t雪上加霜\n36\t，\n37\t南投縣\n38\t政府\n39\t現在\n40\t主動\n41\t和\n42\t縣\n43\t內\n44\t的\n45\t風景區\n46\t，\n47\t還\n48\t有\n49\t遊樂區\n50\t業者\n51\t合作\n52\t，\n53\t從\n54\t4月\n55\t1日\n56\t起\n57\t一\n58\t整\n59\t個\n60\t月\n61\t，\n62\t縣\n63\t內\n64\t的\n65\t風景區\n66\t和\n67\t遊樂區\n68\t共\n69\t16\n70\t個\n71\t景點\n72\t，\n73\t全票\n74\t一律\n75\t變成\n76\t優惠票\n77\t，\n78\t要\n79\t鼓勵\n80\t民眾\n81\t走出\n82\t戶外\n83\t，\n84\t呼吸\n85\t新鮮\n86\t空氣\n87\t，\n88\t也\n89\t為\n90\t自己\n91\t拚\n92\t荷包\n93\t。\n94\t這\n95\t是\n96\t往年\n97\t清明\n98\t連假\n99\t的\n100\t南投\n101\t遊樂區\n102\t人潮\n103\t景象\n104\t，\n105\t但是\n106\t今年\n107\t受到\n108\t新冠\n109\t病毒\n110\t疫情\n111\t衝擊\n112\t，\n113\t南投\n114\t二月份\n115\t縣\n116\t觀光\n117\t人數\n118\t只\n119\t有\n120\t430萬\n121\t，\n122\t比\n123\t去\n124\t760萬\n125\t少\n126\t了\n127\t4成\n128\t多\n129\t，\n130\t為了\n131\t搶救\n132\t觀光\n133\t，\n134\t從\n135\t4月\n136\t1日\n137\t起\n138\t，\n139\t南投縣\n140\t內\n141\t各\n142\t風景區\n143\t和\n144\t遊樂區\n145\t，\n146\t全票\n147\t一律\n148\t變成\n149\t優惠\n150\t票價\n151\t。\n152\t遊樂區\n153\t經理\n154\t黃瑞奇\n155\t：\n156\t「\n157\t從\n158\t現在\n159\t開始\n160\t一直\n161\t到\n162\t6月\n163\t底\n164\t都\n165\t會\n166\t有\n167\t一\n168\t個\n169\t650\n170\t的\n171\t優惠價\n172\t(\n173\t原價\n174\t850\n175\t)\n176\t。\n177\t」\n178\t信義\n179\t鄉長\n180\t全志堅\n181\t：\n182\t「\n183\t琉璃光橋\n184\t還\n185\t有\n186\t雙龍\n187\t七彩\n188\t吊橋\n189\t，\n190\t原本\n191\t的\n192\t100\n193\t元\n194\t全面\n195\t降到\n196\t優惠\n197\t70\n198\t元\n199\t。\n200\t」\n201\t配合\n202\t4月\n203\t1日\n204\t啟用\n205\t的\n206\t信義鄉\n207\t雙龍\n208\t瀑布\n209\t和\n210\t七彩\n211\t吊橋\n212\t，\n213\t南投縣\n214\t內\n215\t觀光\n216\t景點\n217\t同步\n218\t大\n219\t降價\n220\t，\n221\t包括\n222\t，\n223\tIN\n224\t，\n225\t鳳凰谷\n226\t鳥園\n227\t、\n228\t南投\n229\t天空\n230\t之\n231\t橋\n232\t、\n233\t清境\n234\t高空\n235\t步道\n236\t、\n237\t琉璃\n238\t光\n239\t之\n240\t橋\n241\t、\n242\t杉林溪\n243\t、\n244\t九族\n245\t文化村\n246\t、\n247\t泰雅\n248\t渡假村\n249\t、\n250\t奧萬大\n251\t、\n252\t清境\n253\t農場\n254\t等\n255\t共計\n256\t16\n257\t個\n258\t景點\n259\t，\n260\t4月\n261\t起\n262\t一\n263\t整\n264\t個\n265\t月\n266\t的\n267\t優惠\n268\t好康\n269\t，\n270\t鼓勵\n271\t民眾\n272\t走出\n273\t戶外\n274\t，\n275\t呼吸\n276\t新鮮\n277\t空氣\n278\t。\n279\t遊樂區\n280\t經理\n281\t李浩瑋\n282\t：\n283\t「\n284\t在\n285\t禮拜六\n286\t假日\n287\t以及\n288\t連續\n289\t假期\n290\t的\n291\t部分\n292\t，\n293\t我們\n294\t也\n295\t特別\n296\t祭出\n297\t了\n298\t6\n299\t折\n300\t的\n301\t優惠\n302\t。\n303\t」\n304\t民眾\n305\t：\n306\t「\n307\t這邊\n308\t的\n309\t風景\n310\t如果\n311\t說出來\n312\t走走\n313\t環境\n314\t優美\n315\t、\n316\t空氣\n317\t很\n318\t新鮮\n319\t還\n320\t不錯\n321\t。\n322\t」\n323\t對抗\n324\t疫情\n325\t，\n326\t政府\n327\t限制\n328\t外籍\n329\t人士\n330\t入境\n331\t台灣\n332\t，\n333\t等於\n334\t國外\n335\t自由行\n336\t的\n337\t旅客\n338\t，\n339\t直接\n340\t降到\n341\t0\n342\t人\n343\t，\n344\t仰賴\n345\t觀光\n346\t的\n347\t南投縣\n348\t，\n349\t全\n350\t縣\n351\t觀光\n352\t業者\n353\t攜手\n354\t合作\n355\t，\n356\t希望\n357\t讓\n358\t遊客省\n359\t荷包\n360\t，\n361\t能\n362\t刺激\n363\t國旅\n364\t觀光\n365\t。\n366\t\n                                                \t\t\n367\t新聞\n368\t來源\n369\t：\n370\t華視\n371\t新聞\n0\t徐孟蘭\n1\t \n2\t楊宗穎\n3\t \n4\t報導\n5\t  / \n6\t台中市\n7\t \n8\t禁止\n9\t外籍\n10\t人士\n11\t入境\n12\t，\n13\t衝擊\n14\t到\n15\t急需\n16\t要\n17\t看護\n18\t照顧\n19\t的\n20\t家庭\n21\t。\n22\t台中\n23\t一\n24\t名\n25\t陳\n26\t先生\n27\t，\n28\t父親\n29\t78\n30\t歲\n31\t，\n32\t中度\n33\t失智\n34\t，\n35\t原本\n36\t的\n37\t看護\n38\t在\n39\t二月\n40\t離職\n41\t，\n42\t趕緊\n43\t申請\n44\t新\n45\t看護\n46\t，\n47\t但\n48\t等\n49\t了\n50\t半\n51\t個\n52\t月\n53\t，\n54\t卻\n55\t又\n56\t等到\n57\t禁止\n58\t外籍\n59\t人士\n60\t入境\n61\t的\n62\t消息\n63\t，\n64\t等於\n65\t新\n66\t看護\n67\t來\n68\t接班\n69\t的\n70\t時間\n71\t，\n72\t遙遙無期\n73\t。\n74\t一早\n75\t起床\n76\t，\n77\t外籍\n78\t看護\n79\t幫\n80\t阿公\n81\t穿\n82\t衣服\n83\t褲子\n84\t、\n85\t吹\n86\t頭髮\n87\t，\n88\t端\n89\t茶\n90\t給\n91\t阿公\n92\t喝\n93\t，\n94\t中午\n95\t再\n96\t幫\n97\t阿公\n98\t準備\n99\t午餐\n100\t一起\n101\t吃飯\n102\t，\n103\t阿公\n104\t78\n105\t歲\n106\t罹患\n107\t中度\n108\t失智\n109\t，\n110\t生活\n111\t起居\n112\t無法\n113\t自理\n114\t，\n115\t每\n116\t天\n117\t仰賴\n118\t看護\n119\t照顧\n120\t，\n121\t這\n122\t個\n123\t重度\n124\t仰賴\n125\t看護\n126\t的\n127\t家庭\n128\t，\n129\t看護\n130\t在\n131\t二月\n132\t離職\n133\t了\n134\t，\n135\t家人\n136\t申請\n137\t新\n138\t看護\n139\t接班\n140\t，\n141\t已經\n142\t等\n143\t了\n144\t半\n145\t個\n146\t月\n147\t，\n148\t沒想到\n149\t，\n150\t現在\n151\t政府\n152\t又\n153\t宣布\n154\t19\n155\t號\n156\t凌晨\n157\t0點\n158\t開始\n159\t，\n160\t禁止\n161\t外籍\n162\t人士\n163\t入境\n164\t。\n165\t民眾\n166\t陳\n167\t先生\n168\t：\n169\t「\n170\t可能\n171\t會\n172\t再\n173\t等待\n174\t更\n175\t久\n176\t的\n177\t時間\n178\t，\n179\t會\n180\t很\n181\t害怕\n182\t、\n183\t很\n184\t惶恐\n185\t，\n186\t不\n187\t是\n188\t只有\n189\t我\n190\t辛苦\n191\t我\n192\t這\n193\t一\n194\t個\n195\t家人\n196\t也\n197\t是\n198\t非常\n199\t的\n200\t辛苦\n201\t，\n202\t所以\n203\t這\n204\t個\n205\t時間\n206\t拖\n207\t得\n208\t越\n209\t長\n210\t越\n211\t不\n212\t明確\n213\t的話\n214\t，\n215\t我們\n216\t所\n217\t受\n218\t的\n219\t生活\n220\t上\n221\t的\n222\t影響\n223\t是\n224\t越\n225\t大\n226\t。\n227\t」\n228\t在\n229\t藥廠\n230\t上班\n231\t的\n232\t陳\n233\t先生\n234\t，\n235\t生活\n236\t工作\n237\t兩\n238\t頭\n239\t燒\n240\t，\n241\t因為\n242\t少\n243\t了\n244\t看護\n245\t，\n246\t只\n247\t能\n248\t自己\n249\t照顧\n250\t爸爸\n251\t，\n252\t最後\n253\t，\n254\t只好\n255\t將\n256\t爸爸\n257\t送去\n258\t安養\n259\t中心\n260\t。\n261\t民眾\n262\t陳\n263\t先生\n264\t：\n265\t「\n266\t安養\n267\t中心\n268\t的話\n269\t一\n270\t個\n271\t月\n272\t是\n273\t要\n274\t三萬七千\n275\t塊\n276\t，\n277\t之前\n278\t請\n279\t外傭\n280\t的話\n281\t是\n282\t兩萬多\n283\t塊\n284\t錢\n285\t，\n286\t多\n287\t一萬多\n288\t塊\n289\t的\n290\t支出\n291\t。\n292\t」\n293\t台灣\n294\t有\n295\t很多\n296\t家庭\n297\t，\n298\t跟\n299\t陳\n300\t先生\n301\t一樣\n302\t，\n303\t外籍\n304\t看護\n305\t如果\n306\t現在\n307\t剛好\n308\t到期\n309\t的話\n310\t，\n311\t都\n312\t會\n313\t面臨\n314\t新\n315\t看護\n316\t進不\n317\t來\n318\t的\n319\t難題\n320\t，\n321\t勞動部\n322\t在\n323\t官網\n324\t上\n325\t公告\n326\t，\n327\t「\n328\t針對\n329\t在\n330\t臺\n331\t累積\n332\t工作\n333\t年限\n334\t家庭\n335\t看護工\n336\t已\n337\t達\n338\t14\n339\t年\n340\t雇主\n341\t可\n342\t申請\n343\t延長\n344\t每\n345\t次\n346\t3\n347\t個\n348\t月\n349\t」\n350\t，\n351\t如果\n352\t是\n353\t看護\n354\t要\n355\t離職\n356\t回國\n357\t的\n358\t，\n359\t「\n360\t勞動部\n361\t也\n362\t鼓勵\n363\t雇主\n364\t與\n365\t移工\n366\t協商\n367\t」\n368\t，\n369\t移工\n370\t如果\n371\t願意\n372\t配合\n373\t，\n374\t「\n375\t機票\n376\t等\n377\t費用\n378\t損失\n379\t將\n380\t提供\n381\t必要\n382\t的\n383\t費用\n384\t補償\n385\t」\n386\t。\n387\t\n                                                \t\t\n388\t新聞\n389\t來源\n390\t：\n391\t華視\n392\t新聞\n0\t羅立芸\n1\t \n2\t林志純\n3\t \n4\t楊諮宜\n5\t \n6\t報導\n7\t  / \n8\t台北市\n9\t \n10\t中央\n11\t流行\n12\t疫情\n13\t指揮\n14\t中心\n15\t宣布\n16\t，\n17\t美\n18\t、\n19\t加\n20\t、\n21\t澳\n22\t、\n23\t紐\n24\t四\n25\t國\n26\t，\n27\t明\n28\t(19)\n29\t日\n30\t零時\n31\t起\n32\t升為\n33\t第三\n34\t級\n35\t警告\n36\t，\n37\t民眾\n38\t非\n39\t必要\n40\t勿\n41\t前往\n42\t、\n43\t勿\n44\t轉機\n45\t。\n46\t配合\n47\t防疫\n48\t、\n49\t外交部\n50\t也\n51\t宣布\n52\t，\n53\t同樣\n54\t也\n55\t是\n56\t19日\n57\t凌晨\n58\t零時\n59\t起\n60\t，\n61\t除了\n62\t有\n63\t居留證\n64\t、\n65\t外交\n66\t公務\n67\t證明\n68\t、\n69\t商務\n70\t履約\n71\t證明\n72\t，\n73\t或\n74\t有\n75\t其他\n76\t特別\n77\t許可\n78\t，\n79\t其他\n80\t一律\n81\t限制\n82\t外籍\n83\t人士\n84\t入境\n85\t。\n86\t這\n87\t項\n88\t措施\n89\t，\n90\t也\n91\t衝擊到\n92\t國內\n93\t的\n94\t藝文\n95\t活動\n96\t。\n97\t兩廳院\n98\t「\n99\t2020\n100\t台灣\n101\t國際\n102\t藝術節\n103\t活動\n104\t」\n105\t全數\n106\t延期\n107\t，\n108\t開放\n109\t民眾\n110\t全額\n111\t退票\n112\t。\n113\t原定\n114\t4月\n115\t舉辦\n116\t的\n117\t金馬奇\n118\t幻\n119\t影展\n120\t，\n121\t也\n122\t確定\n123\t停辦\n124\t。\n125\t歌手\n126\t蔡依林\n127\t5月\n128\t要\n129\t在\n130\t高雄\n131\t巨蛋\n132\t開\n133\t演唱會\n134\t，\n135\t砸\n136\t重金\n137\t禮聘\n138\t16\n139\t位\n140\t外國\n141\t舞者\n142\t，\n143\t到時候\n144\t也\n145\t可能\n146\t沒辦法\n147\t入境\n148\t！\n149\t中央\n150\t流行\n151\t疫情\n152\t指揮\n153\t中心\n154\t指揮官\n155\t陳時中\n156\t：\n157\t「\n158\t非\n159\t本國籍\n160\t的\n161\t人\n162\t一律\n163\t限制\n164\t入境\n165\t，\n166\t所有\n167\t入境\n168\t者\n169\t皆\n170\t需要\n171\t居家\n172\t檢疫\n173\t14\n174\t天\n175\t，\n176\t從\n177\t19日\n178\t零時\n179\t起\n180\t實施\n181\t。\n182\t」\n183\t中央\n184\t流行\n185\t疫情\n186\t指揮\n187\t中心\n188\t宣布\n189\t，\n190\t除了\n191\t有\n192\t居留證\n193\t，\n194\t外交\n195\t公務\n196\t證明\n197\t，\n198\t商務\n199\t履約\n200\t證明\n201\t，\n202\t或\n203\t其他\n204\t特別\n205\t許可\n206\t，\n207\t19日\n208\t凌晨\n209\t零時\n210\t起\n211\t一律\n212\t限制\n213\t外籍\n214\t人士\n215\t入境\n216\t。\n217\t恰巧\n218\t在\n219\t這\n220\t項\n221\t禁令\n222\t頒布\n223\t前\n224\t，\n225\t抵達\n226\t台灣\n227\t的\n228\t外國\n229\t旅客\n230\t，\n231\t是\n232\t這樣\n233\t看\n234\t的\n235\t，\n236\t這\n237\t項\n238\t防疫\n239\t措施\n240\t，\n241\t也\n242\t衝擊\n243\t了\n244\t國內\n245\t藝文\n246\t活動\n247\t，\n248\t歌手\n249\t蔡依林\n250\t為了\n251\t5月\n252\t高雄\n253\t巨蛋\n254\t演唱會\n255\t，\n256\t砸重金\n257\t請\n258\t了\n259\t16\n260\t位\n261\t外國\n262\t舞者\n263\t，\n264\t到時候\n265\t很\n266\t可能\n267\t沒辦法\n268\t入境\n269\t，\n270\t但\n271\t主辦\n272\t單位\n273\t說\n274\t，\n275\t一切\n276\t以\n277\t防疫\n278\t優先\n279\t，\n280\t因為\n281\t外籍\n282\t表演\n283\t者\n284\t無法\n285\t來\n286\t台\n287\t，\n288\t兩廳院\n289\t「\n290\t2020\n291\t台灣\n292\t國際\n293\t藝術節\n294\t活動\n295\t」\n296\t也\n297\t全數\n298\t延期\n299\t，\n300\t開放\n301\t民眾\n302\t全\n303\t額\n304\t退票\n305\t。\n306\t另外\n307\t原定\n308\t4月\n309\t舉辦\n310\t的\n311\t金馬奇幻\n312\t影展\n313\t，\n314\t也\n315\t確定\n316\t停辦\n317\t，\n318\t中央\n319\t流行\n320\t疫情\n321\t指揮\n322\t中心\n323\t也\n324\t宣布\n325\t，\n326\t19日\n327\t凌晨\n328\t零時\n329\t起\n330\t，\n331\t美\n332\t、\n333\t加\n334\t、\n335\t澳\n336\t、\n337\t紐\n338\t四\n339\t國\n340\t升為\n341\t第三\n342\t級\n343\t警告\n344\t，\n345\t民眾\n346\t非\n347\t必要\n348\t別\n349\t前往\n350\t，\n351\t也\n352\t不要\n353\t在\n354\t這些\n355\t國家\n356\t轉機\n357\t，\n358\t防疫\n359\t當前\n360\t，\n361\t可\n362\t別\n363\t貪圖\n364\t個人\n365\t享受\n366\t，\n367\t免得\n368\t得不償失\n369\t。\n370\t\n                                                \t\t\n371\t新聞\n372\t來源\n373\t：\n374\t華視\n375\t新聞\n"
    },
    {
     "output_type": "error",
     "ename": "KeyboardInterrupt",
     "evalue": "",
     "traceback": [
      "\u001b[0;31m---------------------------------------------------------------------------\u001b[0m",
      "\u001b[0;31mKeyboardInterrupt\u001b[0m                         Traceback (most recent call last)",
      "\u001b[0;32m<ipython-input-26-e14c886eee44>\u001b[0m in \u001b[0;36m<module>\u001b[0;34m\u001b[0m\n\u001b[1;32m      1\u001b[0m \u001b[0;31m#test content斷詞\u001b[0m\u001b[0;34m\u001b[0m\u001b[0;34m\u001b[0m\u001b[0;34m\u001b[0m\u001b[0m\n\u001b[1;32m      2\u001b[0m \u001b[0;32mfor\u001b[0m \u001b[0mi\u001b[0m \u001b[0;32min\u001b[0m \u001b[0mrange\u001b[0m\u001b[0;34m(\u001b[0m\u001b[0;36m1821\u001b[0m\u001b[0;34m,\u001b[0m\u001b[0;36m1852\u001b[0m\u001b[0;34m)\u001b[0m\u001b[0;34m:\u001b[0m\u001b[0;34m\u001b[0m\u001b[0;34m\u001b[0m\u001b[0m\n\u001b[0;32m----> 3\u001b[0;31m     \u001b[0mzh_annotated_ws_content\u001b[0m \u001b[0;34m=\u001b[0m \u001b[0mzh_ws\u001b[0m\u001b[0;34m(\u001b[0m\u001b[0;34m[\u001b[0m\u001b[0mcontent_ckiptagger_segment\u001b[0m\u001b[0;34m[\u001b[0m\u001b[0mi\u001b[0m\u001b[0;34m]\u001b[0m\u001b[0;34m]\u001b[0m\u001b[0;34m)\u001b[0m\u001b[0;34m\u001b[0m\u001b[0;34m\u001b[0m\u001b[0m\n\u001b[0m\u001b[1;32m      4\u001b[0m     \u001b[0;32mfor\u001b[0m \u001b[0mi\u001b[0m\u001b[0;34m,\u001b[0m\u001b[0msentence\u001b[0m \u001b[0;32min\u001b[0m \u001b[0menumerate\u001b[0m\u001b[0;34m(\u001b[0m\u001b[0mzh_annotated_ws_content\u001b[0m\u001b[0;34m)\u001b[0m\u001b[0;34m:\u001b[0m\u001b[0;34m\u001b[0m\u001b[0;34m\u001b[0m\u001b[0m\n\u001b[1;32m      5\u001b[0m         \u001b[0;32mfor\u001b[0m \u001b[0mj\u001b[0m\u001b[0;34m,\u001b[0m\u001b[0mword\u001b[0m \u001b[0;32min\u001b[0m \u001b[0menumerate\u001b[0m\u001b[0;34m(\u001b[0m\u001b[0msentence\u001b[0m\u001b[0;34m)\u001b[0m\u001b[0;34m:\u001b[0m\u001b[0;34m\u001b[0m\u001b[0;34m\u001b[0m\u001b[0m\n",
      "\u001b[0;32m/anaconda3/lib/python3.7/site-packages/ckiptagger/api.py\u001b[0m in \u001b[0;36m__call__\u001b[0;34m(self, sentence_list, recommend_dictionary, coerce_dictionary, sentence_segmentation, segment_delimiter_set, character_normalization, batch_sentences, batch_characters)\u001b[0m\n\u001b[1;32m    112\u001b[0m                 \u001b[0mparital_seq_segment_list\u001b[0m \u001b[0;34m=\u001b[0m \u001b[0;34m[\u001b[0m\u001b[0;34m[\u001b[0m\u001b[0;34m]\u001b[0m \u001b[0;32mfor\u001b[0m \u001b[0msample\u001b[0m \u001b[0;32min\u001b[0m \u001b[0msample_list\u001b[0m\u001b[0;34m]\u001b[0m\u001b[0;34m\u001b[0m\u001b[0;34m\u001b[0m\u001b[0m\n\u001b[1;32m    113\u001b[0m             \u001b[0;32melse\u001b[0m\u001b[0;34m:\u001b[0m\u001b[0;34m\u001b[0m\u001b[0;34m\u001b[0m\u001b[0m\n\u001b[0;32m--> 114\u001b[0;31m                 \u001b[0mparital_seq_segment_list\u001b[0m \u001b[0;34m=\u001b[0m \u001b[0mself\u001b[0m\u001b[0;34m.\u001b[0m\u001b[0mmodel\u001b[0m\u001b[0;34m.\u001b[0m\u001b[0mpredict_label_for_a_batch\u001b[0m\u001b[0;34m(\u001b[0m\u001b[0msample_list\u001b[0m\u001b[0;34m)\u001b[0m\u001b[0;34m\u001b[0m\u001b[0;34m\u001b[0m\u001b[0m\n\u001b[0m\u001b[1;32m    115\u001b[0m             \u001b[0;32mfor\u001b[0m \u001b[0mpartial_index\u001b[0m\u001b[0;34m,\u001b[0m \u001b[0mindex\u001b[0m \u001b[0;32min\u001b[0m \u001b[0menumerate\u001b[0m\u001b[0;34m(\u001b[0m\u001b[0mindex_list\u001b[0m\u001b[0;34m)\u001b[0m\u001b[0;34m:\u001b[0m\u001b[0;34m\u001b[0m\u001b[0;34m\u001b[0m\u001b[0m\n\u001b[1;32m    116\u001b[0m                 \u001b[0mseq_segment_list\u001b[0m\u001b[0;34m[\u001b[0m\u001b[0mindex\u001b[0m\u001b[0;34m]\u001b[0m \u001b[0;34m=\u001b[0m \u001b[0mparital_seq_segment_list\u001b[0m\u001b[0;34m[\u001b[0m\u001b[0mpartial_index\u001b[0m\u001b[0;34m]\u001b[0m\u001b[0;34m\u001b[0m\u001b[0;34m\u001b[0m\u001b[0m\n",
      "\u001b[0;32m/anaconda3/lib/python3.7/site-packages/ckiptagger/model_ws.py\u001b[0m in \u001b[0;36mpredict_label_for_a_batch\u001b[0;34m(self, sample_list)\u001b[0m\n\u001b[1;32m    415\u001b[0m                 \u001b[0mself\u001b[0m\u001b[0;34m.\u001b[0m\u001b[0minput_length\u001b[0m\u001b[0;34m:\u001b[0m \u001b[0minput_length\u001b[0m\u001b[0;34m,\u001b[0m\u001b[0;34m\u001b[0m\u001b[0;34m\u001b[0m\u001b[0m\n\u001b[1;32m    416\u001b[0m                 \u001b[0mself\u001b[0m\u001b[0;34m.\u001b[0m\u001b[0mw_k\u001b[0m\u001b[0;34m:\u001b[0m \u001b[0mw_k\u001b[0m\u001b[0;34m,\u001b[0m\u001b[0;34m\u001b[0m\u001b[0;34m\u001b[0m\u001b[0m\n\u001b[0;32m--> 417\u001b[0;31m                 \u001b[0mself\u001b[0m\u001b[0;34m.\u001b[0m\u001b[0mw_v\u001b[0m\u001b[0;34m:\u001b[0m \u001b[0mw_v\u001b[0m\u001b[0;34m,\u001b[0m\u001b[0;34m\u001b[0m\u001b[0;34m\u001b[0m\u001b[0m\n\u001b[0m\u001b[1;32m    418\u001b[0m             }\n\u001b[1;32m    419\u001b[0m         )\n",
      "\u001b[0;32m/anaconda3/lib/python3.7/site-packages/tensorflow/python/client/session.py\u001b[0m in \u001b[0;36mrun\u001b[0;34m(self, fetches, feed_dict, options, run_metadata)\u001b[0m\n\u001b[1;32m    948\u001b[0m     \u001b[0;32mtry\u001b[0m\u001b[0;34m:\u001b[0m\u001b[0;34m\u001b[0m\u001b[0;34m\u001b[0m\u001b[0m\n\u001b[1;32m    949\u001b[0m       result = self._run(None, fetches, feed_dict, options_ptr,\n\u001b[0;32m--> 950\u001b[0;31m                          run_metadata_ptr)\n\u001b[0m\u001b[1;32m    951\u001b[0m       \u001b[0;32mif\u001b[0m \u001b[0mrun_metadata\u001b[0m\u001b[0;34m:\u001b[0m\u001b[0;34m\u001b[0m\u001b[0;34m\u001b[0m\u001b[0m\n\u001b[1;32m    952\u001b[0m         \u001b[0mproto_data\u001b[0m \u001b[0;34m=\u001b[0m \u001b[0mtf_session\u001b[0m\u001b[0;34m.\u001b[0m\u001b[0mTF_GetBuffer\u001b[0m\u001b[0;34m(\u001b[0m\u001b[0mrun_metadata_ptr\u001b[0m\u001b[0;34m)\u001b[0m\u001b[0;34m\u001b[0m\u001b[0;34m\u001b[0m\u001b[0m\n",
      "\u001b[0;32m/anaconda3/lib/python3.7/site-packages/tensorflow/python/client/session.py\u001b[0m in \u001b[0;36m_run\u001b[0;34m(self, handle, fetches, feed_dict, options, run_metadata)\u001b[0m\n\u001b[1;32m   1171\u001b[0m     \u001b[0;32mif\u001b[0m \u001b[0mfinal_fetches\u001b[0m \u001b[0;32mor\u001b[0m \u001b[0mfinal_targets\u001b[0m \u001b[0;32mor\u001b[0m \u001b[0;34m(\u001b[0m\u001b[0mhandle\u001b[0m \u001b[0;32mand\u001b[0m \u001b[0mfeed_dict_tensor\u001b[0m\u001b[0;34m)\u001b[0m\u001b[0;34m:\u001b[0m\u001b[0;34m\u001b[0m\u001b[0;34m\u001b[0m\u001b[0m\n\u001b[1;32m   1172\u001b[0m       results = self._do_run(handle, final_targets, final_fetches,\n\u001b[0;32m-> 1173\u001b[0;31m                              feed_dict_tensor, options, run_metadata)\n\u001b[0m\u001b[1;32m   1174\u001b[0m     \u001b[0;32melse\u001b[0m\u001b[0;34m:\u001b[0m\u001b[0;34m\u001b[0m\u001b[0;34m\u001b[0m\u001b[0m\n\u001b[1;32m   1175\u001b[0m       \u001b[0mresults\u001b[0m \u001b[0;34m=\u001b[0m \u001b[0;34m[\u001b[0m\u001b[0;34m]\u001b[0m\u001b[0;34m\u001b[0m\u001b[0;34m\u001b[0m\u001b[0m\n",
      "\u001b[0;32m/anaconda3/lib/python3.7/site-packages/tensorflow/python/client/session.py\u001b[0m in \u001b[0;36m_do_run\u001b[0;34m(self, handle, target_list, fetch_list, feed_dict, options, run_metadata)\u001b[0m\n\u001b[1;32m   1348\u001b[0m     \u001b[0;32mif\u001b[0m \u001b[0mhandle\u001b[0m \u001b[0;32mis\u001b[0m \u001b[0;32mNone\u001b[0m\u001b[0;34m:\u001b[0m\u001b[0;34m\u001b[0m\u001b[0;34m\u001b[0m\u001b[0m\n\u001b[1;32m   1349\u001b[0m       return self._do_call(_run_fn, feeds, fetches, targets, options,\n\u001b[0;32m-> 1350\u001b[0;31m                            run_metadata)\n\u001b[0m\u001b[1;32m   1351\u001b[0m     \u001b[0;32melse\u001b[0m\u001b[0;34m:\u001b[0m\u001b[0;34m\u001b[0m\u001b[0;34m\u001b[0m\u001b[0m\n\u001b[1;32m   1352\u001b[0m       \u001b[0;32mreturn\u001b[0m \u001b[0mself\u001b[0m\u001b[0;34m.\u001b[0m\u001b[0m_do_call\u001b[0m\u001b[0;34m(\u001b[0m\u001b[0m_prun_fn\u001b[0m\u001b[0;34m,\u001b[0m \u001b[0mhandle\u001b[0m\u001b[0;34m,\u001b[0m \u001b[0mfeeds\u001b[0m\u001b[0;34m,\u001b[0m \u001b[0mfetches\u001b[0m\u001b[0;34m)\u001b[0m\u001b[0;34m\u001b[0m\u001b[0;34m\u001b[0m\u001b[0m\n",
      "\u001b[0;32m/anaconda3/lib/python3.7/site-packages/tensorflow/python/client/session.py\u001b[0m in \u001b[0;36m_do_call\u001b[0;34m(self, fn, *args)\u001b[0m\n\u001b[1;32m   1354\u001b[0m   \u001b[0;32mdef\u001b[0m \u001b[0m_do_call\u001b[0m\u001b[0;34m(\u001b[0m\u001b[0mself\u001b[0m\u001b[0;34m,\u001b[0m \u001b[0mfn\u001b[0m\u001b[0;34m,\u001b[0m \u001b[0;34m*\u001b[0m\u001b[0margs\u001b[0m\u001b[0;34m)\u001b[0m\u001b[0;34m:\u001b[0m\u001b[0;34m\u001b[0m\u001b[0;34m\u001b[0m\u001b[0m\n\u001b[1;32m   1355\u001b[0m     \u001b[0;32mtry\u001b[0m\u001b[0;34m:\u001b[0m\u001b[0;34m\u001b[0m\u001b[0;34m\u001b[0m\u001b[0m\n\u001b[0;32m-> 1356\u001b[0;31m       \u001b[0;32mreturn\u001b[0m \u001b[0mfn\u001b[0m\u001b[0;34m(\u001b[0m\u001b[0;34m*\u001b[0m\u001b[0margs\u001b[0m\u001b[0;34m)\u001b[0m\u001b[0;34m\u001b[0m\u001b[0;34m\u001b[0m\u001b[0m\n\u001b[0m\u001b[1;32m   1357\u001b[0m     \u001b[0;32mexcept\u001b[0m \u001b[0merrors\u001b[0m\u001b[0;34m.\u001b[0m\u001b[0mOpError\u001b[0m \u001b[0;32mas\u001b[0m \u001b[0me\u001b[0m\u001b[0;34m:\u001b[0m\u001b[0;34m\u001b[0m\u001b[0;34m\u001b[0m\u001b[0m\n\u001b[1;32m   1358\u001b[0m       \u001b[0mmessage\u001b[0m \u001b[0;34m=\u001b[0m \u001b[0mcompat\u001b[0m\u001b[0;34m.\u001b[0m\u001b[0mas_text\u001b[0m\u001b[0;34m(\u001b[0m\u001b[0me\u001b[0m\u001b[0;34m.\u001b[0m\u001b[0mmessage\u001b[0m\u001b[0;34m)\u001b[0m\u001b[0;34m\u001b[0m\u001b[0;34m\u001b[0m\u001b[0m\n",
      "\u001b[0;32m/anaconda3/lib/python3.7/site-packages/tensorflow/python/client/session.py\u001b[0m in \u001b[0;36m_run_fn\u001b[0;34m(feed_dict, fetch_list, target_list, options, run_metadata)\u001b[0m\n\u001b[1;32m   1339\u001b[0m       \u001b[0mself\u001b[0m\u001b[0;34m.\u001b[0m\u001b[0m_extend_graph\u001b[0m\u001b[0;34m(\u001b[0m\u001b[0;34m)\u001b[0m\u001b[0;34m\u001b[0m\u001b[0;34m\u001b[0m\u001b[0m\n\u001b[1;32m   1340\u001b[0m       return self._call_tf_sessionrun(\n\u001b[0;32m-> 1341\u001b[0;31m           options, feed_dict, fetch_list, target_list, run_metadata)\n\u001b[0m\u001b[1;32m   1342\u001b[0m \u001b[0;34m\u001b[0m\u001b[0m\n\u001b[1;32m   1343\u001b[0m     \u001b[0;32mdef\u001b[0m \u001b[0m_prun_fn\u001b[0m\u001b[0;34m(\u001b[0m\u001b[0mhandle\u001b[0m\u001b[0;34m,\u001b[0m \u001b[0mfeed_dict\u001b[0m\u001b[0;34m,\u001b[0m \u001b[0mfetch_list\u001b[0m\u001b[0;34m)\u001b[0m\u001b[0;34m:\u001b[0m\u001b[0;34m\u001b[0m\u001b[0;34m\u001b[0m\u001b[0m\n",
      "\u001b[0;32m/anaconda3/lib/python3.7/site-packages/tensorflow/python/client/session.py\u001b[0m in \u001b[0;36m_call_tf_sessionrun\u001b[0;34m(self, options, feed_dict, fetch_list, target_list, run_metadata)\u001b[0m\n\u001b[1;32m   1427\u001b[0m     return tf_session.TF_SessionRun_wrapper(\n\u001b[1;32m   1428\u001b[0m         \u001b[0mself\u001b[0m\u001b[0;34m.\u001b[0m\u001b[0m_session\u001b[0m\u001b[0;34m,\u001b[0m \u001b[0moptions\u001b[0m\u001b[0;34m,\u001b[0m \u001b[0mfeed_dict\u001b[0m\u001b[0;34m,\u001b[0m \u001b[0mfetch_list\u001b[0m\u001b[0;34m,\u001b[0m \u001b[0mtarget_list\u001b[0m\u001b[0;34m,\u001b[0m\u001b[0;34m\u001b[0m\u001b[0;34m\u001b[0m\u001b[0m\n\u001b[0;32m-> 1429\u001b[0;31m         run_metadata)\n\u001b[0m\u001b[1;32m   1430\u001b[0m \u001b[0;34m\u001b[0m\u001b[0m\n\u001b[1;32m   1431\u001b[0m   \u001b[0;32mdef\u001b[0m \u001b[0m_call_tf_sessionprun\u001b[0m\u001b[0;34m(\u001b[0m\u001b[0mself\u001b[0m\u001b[0;34m,\u001b[0m \u001b[0mhandle\u001b[0m\u001b[0;34m,\u001b[0m \u001b[0mfeed_dict\u001b[0m\u001b[0;34m,\u001b[0m \u001b[0mfetch_list\u001b[0m\u001b[0;34m)\u001b[0m\u001b[0;34m:\u001b[0m\u001b[0;34m\u001b[0m\u001b[0;34m\u001b[0m\u001b[0m\n",
      "\u001b[0;31mKeyboardInterrupt\u001b[0m: "
     ]
    }
   ],
   "source": [
    "#test content斷詞\n",
    "string = []\n",
    "for i in range(1821,1852):\n",
    "    zh_annotated_ws_content = zh_ws([content_ckiptagger_segment[i]])\n",
    "    for i,sentence in enumerate(zh_annotated_ws_content):\n",
    "        for j,word in enumerate(sentence):\n",
    "            print('{}\\t{}'.format(j,word))\n",
    "    i = i+1"
   ]
  },
  {
   "cell_type": "markdown",
   "metadata": {},
   "source": [
    "STANZA"
   ]
  },
  {
   "cell_type": "code",
   "execution_count": 1,
   "metadata": {},
   "outputs": [],
   "source": [
    "import stanza\n",
    "import json\n",
    "from stanza.utils.resources import DEFAULT_MODEL_DIR"
   ]
  },
  {
   "cell_type": "code",
   "execution_count": 2,
   "metadata": {},
   "outputs": [],
   "source": [
    "#title\n",
    "data = [json.loads(line) for line in open(\"/Users/yulin/Documents/資訊類別/資訊檢索導論/回家作業/06170130_cts_0301_0403_news.json\",'r',encoding=\"utf-8\")]"
   ]
  },
  {
   "cell_type": "code",
   "execution_count": 3,
   "metadata": {},
   "outputs": [
    {
     "output_type": "stream",
     "name": "stderr",
     "text": "2020-04-11 19:13:32 INFO: Loading these models for language: zh-hant (Traditional_Chinese):\n=======================\n| Processor | Package |\n-----------------------\n| tokenize  | gsd     |\n| pos       | gsd     |\n| lemma     | gsd     |\n=======================\n\n2020-04-11 19:13:32 INFO: Use device: cpu\n2020-04-11 19:13:32 INFO: Loading: tokenize\n2020-04-11 19:13:32 INFO: Loading: pos\n2020-04-11 19:13:33 INFO: Loading: lemma\n2020-04-11 19:13:33 INFO: Done loading processors!\n"
    }
   ],
   "source": [
    "# initialize Chinese neural pipeline\n",
    "zh_nlp = stanza.Pipeline(lang = 'zh-hant',processors = 'tokenize,lemma,pos',use_gpu = False)"
   ]
  },
  {
   "cell_type": "code",
   "execution_count": 42,
   "metadata": {},
   "outputs": [
    {
     "output_type": "error",
     "ename": "SyntaxError",
     "evalue": "invalid syntax (<ipython-input-42-ba80d5e8550c>, line 2)",
     "traceback": [
      "\u001b[0;36m  File \u001b[0;32m\"<ipython-input-42-ba80d5e8550c>\"\u001b[0;36m, line \u001b[0;32m2\u001b[0m\n\u001b[0;31m    def show(doc):i,sent in enumerate(doc.sentences):\u001b[0m\n\u001b[0m                                                     ^\u001b[0m\n\u001b[0;31mSyntaxError\u001b[0m\u001b[0;31m:\u001b[0m invalid syntax\n"
     ]
    }
   ],
   "source": [
    "# show title\n",
    "def show(doc):i,sent in enumerate(doc.sentences):\n",
    "     s  print (\"Sentence {}\\nINDEX\\tTEXT\".format(i))\n",
    "        for j,word in enumerate(sent.words):\n",
    "            print(\"{}\\t{}\".format(j,word.text))\n",
    "\n",
    "show(zh_annotated_doc)"
   ]
  },
  {
   "cell_type": "code",
   "execution_count": 39,
   "metadata": {},
   "outputs": [
    {
     "output_type": "error",
     "ename": "AttributeError",
     "evalue": "'list' object has no attribute 'sentences'",
     "traceback": [
      "\u001b[0;31m---------------------------------------------------------------------------\u001b[0m",
      "\u001b[0;31mAttributeError\u001b[0m                            Traceback (most recent call last)",
      "\u001b[0;32m<ipython-input-39-7bc522349e27>\u001b[0m in \u001b[0;36m<module>\u001b[0;34m\u001b[0m\n\u001b[1;32m      2\u001b[0m \u001b[0;32mfor\u001b[0m \u001b[0mi\u001b[0m \u001b[0;32min\u001b[0m \u001b[0mrange\u001b[0m\u001b[0;34m(\u001b[0m\u001b[0;36m0\u001b[0m\u001b[0;34m,\u001b[0m\u001b[0;36m5\u001b[0m\u001b[0;34m)\u001b[0m\u001b[0;34m:\u001b[0m\u001b[0;34m\u001b[0m\u001b[0;34m\u001b[0m\u001b[0m\n\u001b[1;32m      3\u001b[0m     \u001b[0mdata\u001b[0m\u001b[0;34m[\u001b[0m\u001b[0mi\u001b[0m\u001b[0;34m]\u001b[0m\u001b[0;34m[\u001b[0m\u001b[0;34m'title_stanza_segment'\u001b[0m\u001b[0;34m]\u001b[0m \u001b[0;34m=\u001b[0m \u001b[0mzh_nlp\u001b[0m\u001b[0;34m(\u001b[0m\u001b[0mdata\u001b[0m\u001b[0;34m[\u001b[0m\u001b[0mi\u001b[0m\u001b[0;34m]\u001b[0m\u001b[0;34m[\u001b[0m\u001b[0;34m\"title\"\u001b[0m\u001b[0;34m]\u001b[0m\u001b[0;34m)\u001b[0m\u001b[0;34m\u001b[0m\u001b[0;34m\u001b[0m\u001b[0m\n\u001b[0;32m----> 4\u001b[0;31m     \u001b[0;32mfor\u001b[0m \u001b[0mi\u001b[0m\u001b[0;34m,\u001b[0m\u001b[0msent\u001b[0m \u001b[0;32min\u001b[0m \u001b[0menumerate\u001b[0m\u001b[0;34m(\u001b[0m\u001b[0mdata\u001b[0m\u001b[0;34m.\u001b[0m\u001b[0msentences\u001b[0m\u001b[0;34m)\u001b[0m\u001b[0;34m:\u001b[0m\u001b[0;34m\u001b[0m\u001b[0;34m\u001b[0m\u001b[0m\n\u001b[0m\u001b[1;32m      5\u001b[0m         \u001b[0mprint\u001b[0m \u001b[0;34m(\u001b[0m\u001b[0;34m\"Sentence {}\\nINDEX\\tTEXT\"\u001b[0m\u001b[0;34m.\u001b[0m\u001b[0mformat\u001b[0m\u001b[0;34m(\u001b[0m\u001b[0mi\u001b[0m\u001b[0;34m)\u001b[0m\u001b[0;34m)\u001b[0m\u001b[0;34m\u001b[0m\u001b[0;34m\u001b[0m\u001b[0m\n\u001b[1;32m      6\u001b[0m         \u001b[0;32mfor\u001b[0m \u001b[0mj\u001b[0m\u001b[0;34m,\u001b[0m\u001b[0mword\u001b[0m \u001b[0;32min\u001b[0m \u001b[0menumerate\u001b[0m\u001b[0;34m(\u001b[0m\u001b[0msent\u001b[0m\u001b[0;34m.\u001b[0m\u001b[0mwords\u001b[0m\u001b[0;34m)\u001b[0m\u001b[0;34m:\u001b[0m\u001b[0;34m\u001b[0m\u001b[0;34m\u001b[0m\u001b[0m\n",
      "\u001b[0;31mAttributeError\u001b[0m: 'list' object has no attribute 'sentences'"
     ]
    }
   ],
   "source": [
    "# test show title\n",
    "for i in range(0,5):\n",
    "    data[i]['title_stanza_segment'] = zh_nlp(data[i][\"title\"])\n",
    "    for i,sent in enumerate(data.sentences):\n",
    "        print (\"Sentence {}\\nINDEX\\tTEXT\".format(i))\n",
    "        for j,word in enumerate(sent.words):\n",
    "            print(\"{}\\t{}\".format(j,word.text))\n",
    "        i = i+1"
   ]
  },
  {
   "cell_type": "code",
   "execution_count": null,
   "metadata": {},
   "outputs": [],
   "source": [
    "# test title斷詞\n",
    "for i in range(1821,2729):\n",
    "    zh_annotated_ws_title = zh_ws([title_ckiptagger_segment[i]])\n",
    "    for i,sentence in enumerate(zh_annotated_ws_title):\n",
    "        print('sentence {}:'.format(k))\n",
    "        print('INDEX\\tTEXT')\n",
    "        for j,word in enumerate(sentence):\n",
    "            print('{}\\t{}'.format(j,word))\n",
    "    k = k+1"
   ]
  },
  {
   "cell_type": "code",
   "execution_count": 33,
   "metadata": {
    "tags": [
     "outputPrepend",
     "outputPrepend",
     "outputPrepend",
     "outputPrepend",
     "outputPrepend",
     "outputPrepend",
     "outputPrepend",
     "outputPrepend",
     "outputPrepend",
     "outputPrepend",
     "outputPrepend",
     "outputPrepend",
     "outputPrepend",
     "outputPrepend",
     "outputPrepend",
     "outputPrepend",
     "outputPrepend",
     "outputPrepend",
     "outputPrepend",
     "outputPrepend",
     "outputPrepend",
     "outputPrepend",
     "outputPrepend",
     "outputPrepend",
     "outputPrepend",
     "outputPrepend",
     "outputPrepend",
     "outputPrepend",
     "outputPrepend",
     "outputPrepend",
     "outputPrepend",
     "outputPrepend"
    ]
   },
   "outputs": [],
   "source": [
    "# title\n",
    "i = 0\n",
    "while i < 8:\n",
    "    zh_annotated_title = zh_nlp(data[i][\"title\"])\n",
    "    data[i]['title_stanza_segment'] = zh_annotated_title\n",
    "    i = i+1"
   ]
  },
  {
   "cell_type": "code",
   "execution_count": 7,
   "metadata": {},
   "outputs": [],
   "source": [
    "# content\n",
    "for i in range(1821,2729):\n",
    "    zh_doc = data[i]['content']\n",
    "\n",
    "    zh_annotated_doc = zh_nlp(zh_doc)\n",
    "    data[i]['content_stanza_segment'] = zh_annotated_doc"
   ]
  },
  {
   "cell_type": "code",
   "execution_count": 12,
   "metadata": {},
   "outputs": [
    {
     "output_type": "stream",
     "name": "stdout",
     "text": "Sentence 1\nINDEX\tTEXT\n0\t蒲依婕\n1\t編譯\n2\t新冠\n3\t病毒\n4\t疫情\n5\t爆發\n6\t，\n7\t一\n8\t下子\n9\t增加\n10\t許多\n11\t病患\n12\t，\n13\t讓\n14\t許多\n15\t國家\n16\t的\n17\t醫院\n18\t都\n19\t吃\n20\t不消\n21\t，\n22\t中國\n23\t武漢\n24\t就\n25\t曾經\n26\t緊急\n27\t徵用\n28\t體育\n29\t館\n30\t、\n31\t展覽\n32\t館\n33\t改建\n34\t成方\n35\t艙\n36\t醫院\n37\t，\n38\t美國\n39\t疫情\n40\t震央\n41\t紐約\n42\t也\n43\t正忙\n44\t著\n45\t把\n46\t會議\n47\t中心\n48\t、\n49\t飯店\n50\t以及\n51\t學校\n52\t宿舍\n53\t改造\n54\t成\n55\t醫院\n56\t和\n57\t病房\n58\t，\n59\t西班牙\n60\t馬德里\n61\t一\n62\t家\n63\t四\n64\t星\n65\t級\n66\t的\n67\t酒店\n68\t也\n69\t被\n70\t改建\n71\t成\n72\t醫院\n73\t，\n74\t收治\n75\t輕症\n76\t患者\n77\t。\nSentence 2\nINDEX\tTEXT\n0\t在\n1\t全球\n2\t旅遊\n3\t停擺\n4\t的\n5\t衝擊\n6\t下\n7\t，\n8\t飯店\n9\t改建\n10\t成\n11\t醫院\n12\t，\n13\t似乎\n14\t成\n15\t了\n16\t過渡\n17\t期\n18\t的\n19\t另\n20\t一\n21\t股\n22\t熱潮\n23\t。\nSentence 3\nINDEX\tTEXT\n0\t四\n1\t星\n2\t級\n3\t的\n4\t艾爾大\n5\t酒店\n6\t位\n7\t在\n8\t馬德里\n9\t市\n10\t中心\n11\t，\n12\t在\n13\t新冠\n14\t病毒\n15\t疫情\n16\t延燒\n17\t下\n18\t，\n19\t酒店\n20\t部分\n21\t被\n22\t改建\n23\t成\n24\t醫院\n25\t，\n26\t專門\n27\t收治\n28\t輕症\n29\t患者\n30\t。\nSentence 4\nINDEX\tTEXT\n0\t中國\n1\t武漢\n2\t在\n3\t對抗\n4\t疫情\n5\t時\n6\t，\n7\t徵用\n8\t體育\n9\t館\n10\t展覽\n11\t館\n12\t等場\n13\t所\n14\t改建\n15\t成方\n16\t艙\n17\t醫院\n18\t，\n19\t不過\n20\t有\n21\t患者\n22\t抱怨\n23\t，\n24\t醫院\n25\t內部\n26\t環境\n27\t不佳\n28\t，\n29\t就\n30\t像\n31\t病毒\n32\t超級\n33\t培養\n34\t皿\n35\t。\nSentence 5\nINDEX\tTEXT\n0\t方艙\n1\t醫院\n2\t患者\n3\t何\n4\t小姐\n5\t：\n6\t「\n7\t所有\n8\t的\n9\t人住\n10\t在\n11\t一起\n12\t，\n13\t我\n14\t擔心\n15\t交叉\n16\t感染\n17\t，\n18\t所以\n19\t當時\n20\t我\n21\t不\n22\t想來\n23\t。\n24\t」\nSentence 6\nINDEX\tTEXT\n0\t為了\n1\t扭轉\n2\t形象\n3\t，\n4\t中國\n5\t當局\n6\t找來\n7\t患者\n8\t現身\n9\t說法\n10\t，\n11\t而\n12\t現在\n13\t疫情\n14\t燒到\n15\t歐洲\n16\t，\n17\t當地\n18\t同樣\n19\t面臨\n20\t醫院\n21\t不足\n22\t的\n23\t窘境\n24\t，\n25\t不少\n26\t政府\n27\t正\n28\t在\n29\t計畫\n30\t把\n31\t暫停\n32\t營業\n33\t的\n34\t飯店\n35\t改成\n36\t醫院\n37\t。\nSentence 7\nINDEX\tTEXT\n0\t根據\n1\tCNN\n2\t報導\n3\t，\n4\t馬德里\n5\t地區\n6\t的\n7\t飯店\n8\t業者\n9\t就\n10\t提供\n11\t當局\n12\t40\n13\t間\n14\t飯店\n15\t，\n16\t如此\n17\t一\n18\t來\n19\t可\n20\t增加\n21\t9\n22\t千\n23\t個\n24\t床位\n25\t，\n26\t英國\n27\t幾\n28\t家\n29\t連鎖\n30\t飯\n31\t店業\n32\t者\n33\t也\n34\t正\n35\t在\n36\t跟\n37\t英國\n38\t國民\n39\t健保\n40\t署\n41\t討論\n42\t，\n43\t將\n44\t他們\n45\t的\n46\t飯店\n47\t改造\n48\t成\n49\t臨時\n50\t病房\n51\t。\nSentence 8\nINDEX\tTEXT\n0\t而\n1\t在\n2\t美國\n3\t疫情\n4\t震央\n5\t紐約\n6\t也\n7\t忙\n8\t著\n9\t把\n10\t會議\n11\t中心\n12\t飯店\n13\t或是\n14\t大學\n15\t宿舍\n16\t改建\n17\t成\n18\t臨時\n19\t醫院\n20\t，\n21\t非常\n22\t時期\n23\t現有\n24\t的\n25\t設施\n26\t派上\n27\t用\n28\t場\n29\t。\nSentence 9\nINDEX\tTEXT\n0\t新聞來源\n1\t：\n2\t華視\n3\t新聞\n"
    }
   ],
   "source": [
    "# show content\n",
    "def show(doc):\n",
    "    \n",
    "    for i,sent in enumerate(doc.sentences):\n",
    "        print (\"Sentence {}\\nINDEX\\tTEXT\".format(i+1))\n",
    "        for j,word in enumerate(sent.words):\n",
    "            print(\"{}\\t{}\".format(j,word.text))\n",
    "\n",
    "show(zh_annotated_doc)"
   ]
  },
  {
   "cell_type": "code",
   "execution_count": 14,
   "metadata": {},
   "outputs": [
    {
     "output_type": "stream",
     "name": "stdout",
     "text": "Sentence 1\nINDEX\tTEXT\n0\t蒲依婕\n1\t編譯\n2\t新冠\n3\t病毒\n4\t疫情\n5\t爆發\n6\t，\n7\t一\n8\t下子\n9\t增加\n10\t許多\n11\t病患\n12\t，\n13\t讓\n14\t許多\n15\t國家\n16\t的\n17\t醫院\n18\t都\n19\t吃\n20\t不消\n21\t，\n22\t中國\n23\t武漢\n24\t就\n25\t曾經\n26\t緊急\n27\t徵用\n28\t體育\n29\t館\n30\t、\n31\t展覽\n32\t館\n33\t改建\n34\t成方\n35\t艙\n36\t醫院\n37\t，\n38\t美國\n39\t疫情\n40\t震央\n41\t紐約\n42\t也\n43\t正忙\n44\t著\n45\t把\n46\t會議\n47\t中心\n48\t、\n49\t飯店\n50\t以及\n51\t學校\n52\t宿舍\n53\t改造\n54\t成\n55\t醫院\n56\t和\n57\t病房\n58\t，\n59\t西班牙\n60\t馬德里\n61\t一\n62\t家\n63\t四\n64\t星\n65\t級\n66\t的\n67\t酒店\n68\t也\n69\t被\n70\t改建\n71\t成\n72\t醫院\n73\t，\n74\t收治\n75\t輕症\n76\t患者\n77\t。\nSentence 2\nINDEX\tTEXT\n0\t在\n1\t全球\n2\t旅遊\n3\t停擺\n4\t的\n5\t衝擊\n6\t下\n7\t，\n8\t飯店\n9\t改建\n10\t成\n11\t醫院\n12\t，\n13\t似乎\n14\t成\n15\t了\n16\t過渡\n17\t期\n18\t的\n19\t另\n20\t一\n21\t股\n22\t熱潮\n23\t。\nSentence 3\nINDEX\tTEXT\n0\t四\n1\t星\n2\t級\n3\t的\n4\t艾爾大\n5\t酒店\n6\t位\n7\t在\n8\t馬德里\n9\t市\n10\t中心\n11\t，\n12\t在\n13\t新冠\n14\t病毒\n15\t疫情\n16\t延燒\n17\t下\n18\t，\n19\t酒店\n20\t部分\n21\t被\n22\t改建\n23\t成\n24\t醫院\n25\t，\n26\t專門\n27\t收治\n28\t輕症\n29\t患者\n30\t。\nSentence 4\nINDEX\tTEXT\n0\t中國\n1\t武漢\n2\t在\n3\t對抗\n4\t疫情\n5\t時\n6\t，\n7\t徵用\n8\t體育\n9\t館\n10\t展覽\n11\t館\n12\t等場\n13\t所\n14\t改建\n15\t成方\n16\t艙\n17\t醫院\n18\t，\n19\t不過\n20\t有\n21\t患者\n22\t抱怨\n23\t，\n24\t醫院\n25\t內部\n26\t環境\n27\t不佳\n28\t，\n29\t就\n30\t像\n31\t病毒\n32\t超級\n33\t培養\n34\t皿\n35\t。\nSentence 5\nINDEX\tTEXT\n0\t方艙\n1\t醫院\n2\t患者\n3\t何\n4\t小姐\n5\t：\n6\t「\n7\t所有\n8\t的\n9\t人住\n10\t在\n11\t一起\n12\t，\n13\t我\n14\t擔心\n15\t交叉\n16\t感染\n17\t，\n18\t所以\n19\t當時\n20\t我\n21\t不\n22\t想來\n23\t。\n24\t」\nSentence 6\nINDEX\tTEXT\n0\t為了\n1\t扭轉\n2\t形象\n3\t，\n4\t中國\n5\t當局\n6\t找來\n7\t患者\n8\t現身\n9\t說法\n10\t，\n11\t而\n12\t現在\n13\t疫情\n14\t燒到\n15\t歐洲\n16\t，\n17\t當地\n18\t同樣\n19\t面臨\n20\t醫院\n21\t不足\n22\t的\n23\t窘境\n24\t，\n25\t不少\n26\t政府\n27\t正\n28\t在\n29\t計畫\n30\t把\n31\t暫停\n32\t營業\n33\t的\n34\t飯店\n35\t改成\n36\t醫院\n37\t。\nSentence 7\nINDEX\tTEXT\n0\t根據\n1\tCNN\n2\t報導\n3\t，\n4\t馬德里\n5\t地區\n6\t的\n7\t飯店\n8\t業者\n9\t就\n10\t提供\n11\t當局\n12\t40\n13\t間\n14\t飯店\n15\t，\n16\t如此\n17\t一\n18\t來\n19\t可\n20\t增加\n21\t9\n22\t千\n23\t個\n24\t床位\n25\t，\n26\t英國\n27\t幾\n28\t家\n29\t連鎖\n30\t飯\n31\t店業\n32\t者\n33\t也\n34\t正\n35\t在\n36\t跟\n37\t英國\n38\t國民\n39\t健保\n40\t署\n41\t討論\n42\t，\n43\t將\n44\t他們\n45\t的\n46\t飯店\n47\t改造\n48\t成\n49\t臨時\n50\t病房\n51\t。\nSentence 8\nINDEX\tTEXT\n0\t而\n1\t在\n2\t美國\n3\t疫情\n4\t震央\n5\t紐約\n6\t也\n7\t忙\n8\t著\n9\t把\n10\t會議\n11\t中心\n12\t飯店\n13\t或是\n14\t大學\n15\t宿舍\n16\t改建\n17\t成\n18\t臨時\n19\t醫院\n20\t，\n21\t非常\n22\t時期\n23\t現有\n24\t的\n25\t設施\n26\t派上\n27\t用\n28\t場\n29\t。\nSentence 9\nINDEX\tTEXT\n0\t新聞來源\n1\t：\n2\t華視\n3\t新聞\nSentence 1\nINDEX\tTEXT\n0\t蒲依婕\n1\t編譯\n2\t新冠\n3\t病毒\n4\t疫情\n5\t爆發\n6\t，\n7\t一\n8\t下子\n9\t增加\n10\t許多\n11\t病患\n12\t，\n13\t讓\n14\t許多\n15\t國家\n16\t的\n17\t醫院\n18\t都\n19\t吃\n20\t不消\n21\t，\n22\t中國\n23\t武漢\n24\t就\n25\t曾經\n26\t緊急\n27\t徵用\n28\t體育\n29\t館\n30\t、\n31\t展覽\n32\t館\n33\t改建\n34\t成方\n35\t艙\n36\t醫院\n37\t，\n38\t美國\n39\t疫情\n40\t震央\n41\t紐約\n42\t也\n43\t正忙\n44\t著\n45\t把\n46\t會議\n47\t中心\n48\t、\n49\t飯店\n50\t以及\n51\t學校\n52\t宿舍\n53\t改造\n54\t成\n55\t醫院\n56\t和\n57\t病房\n58\t，\n59\t西班牙\n60\t馬德里\n61\t一\n62\t家\n63\t四\n64\t星\n65\t級\n66\t的\n67\t酒店\n68\t也\n69\t被\n70\t改建\n71\t成\n72\t醫院\n73\t，\n74\t收治\n75\t輕症\n76\t患者\n77\t。\nSentence 2\nINDEX\tTEXT\n0\t在\n1\t全球\n2\t旅遊\n3\t停擺\n4\t的\n5\t衝擊\n6\t下\n7\t，\n8\t飯店\n9\t改建\n10\t成\n11\t醫院\n12\t，\n13\t似乎\n14\t成\n15\t了\n16\t過渡\n17\t期\n18\t的\n19\t另\n20\t一\n21\t股\n22\t熱潮\n23\t。\nSentence 3\nINDEX\tTEXT\n0\t四\n1\t星\n2\t級\n3\t的\n4\t艾爾大\n5\t酒店\n6\t位\n7\t在\n8\t馬德里\n9\t市\n10\t中心\n11\t，\n12\t在\n13\t新冠\n14\t病毒\n15\t疫情\n16\t延燒\n17\t下\n18\t，\n19\t酒店\n20\t部分\n21\t被\n22\t改建\n23\t成\n24\t醫院\n25\t，\n26\t專門\n27\t收治\n28\t輕症\n29\t患者\n30\t。\nSentence 4\nINDEX\tTEXT\n0\t中國\n1\t武漢\n2\t在\n3\t對抗\n4\t疫情\n5\t時\n6\t，\n7\t徵用\n8\t體育\n9\t館\n10\t展覽\n11\t館\n12\t等場\n13\t所\n14\t改建\n15\t成方\n16\t艙\n17\t醫院\n18\t，\n19\t不過\n20\t有\n21\t患者\n22\t抱怨\n23\t，\n24\t醫院\n25\t內部\n26\t環境\n27\t不佳\n28\t，\n29\t就\n30\t像\n31\t病毒\n32\t超級\n33\t培養\n34\t皿\n35\t。\nSentence 5\nINDEX\tTEXT\n0\t方艙\n1\t醫院\n2\t患者\n3\t何\n4\t小姐\n5\t：\n6\t「\n7\t所有\n8\t的\n9\t人住\n10\t在\n11\t一起\n12\t，\n13\t我\n14\t擔心\n15\t交叉\n16\t感染\n17\t，\n18\t所以\n19\t當時\n20\t我\n21\t不\n22\t想來\n23\t。\n24\t」\nSentence 6\nINDEX\tTEXT\n0\t為了\n1\t扭轉\n2\t形象\n3\t，\n4\t中國\n5\t當局\n6\t找來\n7\t患者\n8\t現身\n9\t說法\n10\t，\n11\t而\n12\t現在\n13\t疫情\n14\t燒到\n15\t歐洲\n16\t，\n17\t當地\n18\t同樣\n19\t面臨\n20\t醫院\n21\t不足\n22\t的\n23\t窘境\n24\t，\n25\t不少\n26\t政府\n27\t正\n28\t在\n29\t計畫\n30\t把\n31\t暫停\n32\t營業\n33\t的\n34\t飯店\n35\t改成\n36\t醫院\n37\t。\nSentence 7\nINDEX\tTEXT\n0\t根據\n1\tCNN\n2\t報導\n3\t，\n4\t馬德里\n5\t地區\n6\t的\n7\t飯店\n8\t業者\n9\t就\n10\t提供\n11\t當局\n12\t40\n13\t間\n14\t飯店\n15\t，\n16\t如此\n17\t一\n18\t來\n19\t可\n20\t增加\n21\t9\n22\t千\n23\t個\n24\t床位\n25\t，\n26\t英國\n27\t幾\n28\t家\n29\t連鎖\n30\t飯\n31\t店業\n32\t者\n33\t也\n34\t正\n35\t在\n36\t跟\n37\t英國\n38\t國民\n39\t健保\n40\t署\n41\t討論\n42\t，\n43\t將\n44\t他們\n45\t的\n46\t飯店\n47\t改造\n48\t成\n49\t臨時\n50\t病房\n51\t。\nSentence 8\nINDEX\tTEXT\n0\t而\n1\t在\n2\t美國\n3\t疫情\n4\t震央\n5\t紐約\n6\t也\n7\t忙\n8\t著\n9\t把\n10\t會議\n11\t中心\n12\t飯店\n13\t或是\n14\t大學\n15\t宿舍\n16\t改建\n17\t成\n18\t臨時\n19\t醫院\n20\t，\n21\t非常\n22\t時期\n23\t現有\n24\t的\n25\t設施\n26\t派上\n27\t用\n28\t場\n29\t。\nSentence 9\nINDEX\tTEXT\n0\t新聞來源\n1\t：\n2\t華視\n3\t新聞\nSentence 1\nINDEX\tTEXT\n0\t蒲依婕\n1\t編譯\n2\t新冠\n3\t病毒\n4\t疫情\n5\t爆發\n6\t，\n7\t一\n8\t下子\n9\t增加\n10\t許多\n11\t病患\n12\t，\n13\t讓\n14\t許多\n15\t國家\n16\t的\n17\t醫院\n18\t都\n19\t吃\n20\t不消\n21\t，\n22\t中國\n23\t武漢\n24\t就\n25\t曾經\n26\t緊急\n27\t徵用\n28\t體育\n29\t館\n30\t、\n31\t展覽\n32\t館\n33\t改建\n34\t成方\n35\t艙\n36\t醫院\n37\t，\n38\t美國\n39\t疫情\n40\t震央\n41\t紐約\n42\t也\n43\t正忙\n44\t著\n45\t把\n46\t會議\n47\t中心\n48\t、\n49\t飯店\n50\t以及\n51\t學校\n52\t宿舍\n53\t改造\n54\t成\n55\t醫院\n56\t和\n57\t病房\n58\t，\n59\t西班牙\n60\t馬德里\n61\t一\n62\t家\n63\t四\n64\t星\n65\t級\n66\t的\n67\t酒店\n68\t也\n69\t被\n70\t改建\n71\t成\n72\t醫院\n73\t，\n74\t收治\n75\t輕症\n76\t患者\n77\t。\nSentence 2\nINDEX\tTEXT\n0\t在\n1\t全球\n2\t旅遊\n3\t停擺\n4\t的\n5\t衝擊\n6\t下\n7\t，\n8\t飯店\n9\t改建\n10\t成\n11\t醫院\n12\t，\n13\t似乎\n14\t成\n15\t了\n16\t過渡\n17\t期\n18\t的\n19\t另\n20\t一\n21\t股\n22\t熱潮\n23\t。\nSentence 3\nINDEX\tTEXT\n0\t四\n1\t星\n2\t級\n3\t的\n4\t艾爾大\n5\t酒店\n6\t位\n7\t在\n8\t馬德里\n9\t市\n10\t中心\n11\t，\n12\t在\n13\t新冠\n14\t病毒\n15\t疫情\n16\t延燒\n17\t下\n18\t，\n19\t酒店\n20\t部分\n21\t被\n22\t改建\n23\t成\n24\t醫院\n25\t，\n26\t專門\n27\t收治\n28\t輕症\n29\t患者\n30\t。\nSentence 4\nINDEX\tTEXT\n0\t中國\n1\t武漢\n2\t在\n3\t對抗\n4\t疫情\n5\t時\n6\t，\n7\t徵用\n8\t體育\n9\t館\n10\t展覽\n11\t館\n12\t等場\n13\t所\n14\t改建\n15\t成方\n16\t艙\n17\t醫院\n18\t，\n19\t不過\n20\t有\n21\t患者\n22\t抱怨\n23\t，\n24\t醫院\n25\t內部\n26\t環境\n27\t不佳\n28\t，\n29\t就\n30\t像\n31\t病毒\n32\t超級\n33\t培養\n34\t皿\n35\t。\nSentence 5\nINDEX\tTEXT\n0\t方艙\n1\t醫院\n2\t患者\n3\t何\n4\t小姐\n5\t：\n6\t「\n7\t所有\n8\t的\n9\t人住\n10\t在\n11\t一起\n12\t，\n13\t我\n14\t擔心\n15\t交叉\n16\t感染\n17\t，\n18\t所以\n19\t當時\n20\t我\n21\t不\n22\t想來\n23\t。\n24\t」\nSentence 6\nINDEX\tTEXT\n0\t為了\n1\t扭轉\n2\t形象\n3\t，\n4\t中國\n5\t當局\n6\t找來\n7\t患者\n8\t現身\n9\t說法\n10\t，\n11\t而\n12\t現在\n13\t疫情\n14\t燒到\n15\t歐洲\n16\t，\n17\t當地\n18\t同樣\n19\t面臨\n20\t醫院\n21\t不足\n22\t的\n23\t窘境\n24\t，\n25\t不少\n26\t政府\n27\t正\n28\t在\n29\t計畫\n30\t把\n31\t暫停\n32\t營業\n33\t的\n34\t飯店\n35\t改成\n36\t醫院\n37\t。\nSentence 7\nINDEX\tTEXT\n0\t根據\n1\tCNN\n2\t報導\n3\t，\n4\t馬德里\n5\t地區\n6\t的\n7\t飯店\n8\t業者\n9\t就\n10\t提供\n11\t當局\n12\t40\n13\t間\n14\t飯店\n15\t，\n16\t如此\n17\t一\n18\t來\n19\t可\n20\t增加\n21\t9\n22\t千\n23\t個\n24\t床位\n25\t，\n26\t英國\n27\t幾\n28\t家\n29\t連鎖\n30\t飯\n31\t店業\n32\t者\n33\t也\n34\t正\n35\t在\n36\t跟\n37\t英國\n38\t國民\n39\t健保\n40\t署\n41\t討論\n42\t，\n43\t將\n44\t他們\n45\t的\n46\t飯店\n47\t改造\n48\t成\n49\t臨時\n50\t病房\n51\t。\nSentence 8\nINDEX\tTEXT\n0\t而\n1\t在\n2\t美國\n3\t疫情\n4\t震央\n5\t紐約\n6\t也\n7\t忙\n8\t著\n9\t把\n10\t會議\n11\t中心\n12\t飯店\n13\t或是\n14\t大學\n15\t宿舍\n16\t改建\n17\t成\n18\t臨時\n19\t醫院\n20\t，\n21\t非常\n22\t時期\n23\t現有\n24\t的\n25\t設施\n26\t派上\n27\t用\n28\t場\n29\t。\nSentence 9\nINDEX\tTEXT\n0\t新聞來源\n1\t：\n2\t華視\n3\t新聞\nSentence 1\nINDEX\tTEXT\n0\t蒲依婕\n1\t編譯\n2\t新冠\n3\t病毒\n4\t疫情\n5\t爆發\n6\t，\n7\t一\n8\t下子\n9\t增加\n10\t許多\n11\t病患\n12\t，\n13\t讓\n14\t許多\n15\t國家\n16\t的\n17\t醫院\n18\t都\n19\t吃\n20\t不消\n21\t，\n22\t中國\n23\t武漢\n24\t就\n25\t曾經\n26\t緊急\n27\t徵用\n28\t體育\n29\t館\n30\t、\n31\t展覽\n32\t館\n33\t改建\n34\t成方\n35\t艙\n36\t醫院\n37\t，\n38\t美國\n39\t疫情\n40\t震央\n41\t紐約\n42\t也\n43\t正忙\n44\t著\n45\t把\n46\t會議\n47\t中心\n48\t、\n49\t飯店\n50\t以及\n51\t學校\n52\t宿舍\n53\t改造\n54\t成\n55\t醫院\n56\t和\n57\t病房\n58\t，\n59\t西班牙\n60\t馬德里\n61\t一\n62\t家\n63\t四\n64\t星\n65\t級\n66\t的\n67\t酒店\n68\t也\n69\t被\n70\t改建\n71\t成\n72\t醫院\n73\t，\n74\t收治\n75\t輕症\n76\t患者\n77\t。\nSentence 2\nINDEX\tTEXT\n0\t在\n1\t全球\n2\t旅遊\n3\t停擺\n4\t的\n5\t衝擊\n6\t下\n7\t，\n8\t飯店\n9\t改建\n10\t成\n11\t醫院\n12\t，\n13\t似乎\n14\t成\n15\t了\n16\t過渡\n17\t期\n18\t的\n19\t另\n20\t一\n21\t股\n22\t熱潮\n23\t。\nSentence 3\nINDEX\tTEXT\n0\t四\n1\t星\n2\t級\n3\t的\n4\t艾爾大\n5\t酒店\n6\t位\n7\t在\n8\t馬德里\n9\t市\n10\t中心\n11\t，\n12\t在\n13\t新冠\n14\t病毒\n15\t疫情\n16\t延燒\n17\t下\n18\t，\n19\t酒店\n20\t部分\n21\t被\n22\t改建\n23\t成\n24\t醫院\n25\t，\n26\t專門\n27\t收治\n28\t輕症\n29\t患者\n30\t。\nSentence 4\nINDEX\tTEXT\n0\t中國\n1\t武漢\n2\t在\n3\t對抗\n4\t疫情\n5\t時\n6\t，\n7\t徵用\n8\t體育\n9\t館\n10\t展覽\n11\t館\n12\t等場\n13\t所\n14\t改建\n15\t成方\n16\t艙\n17\t醫院\n18\t，\n19\t不過\n20\t有\n21\t患者\n22\t抱怨\n23\t，\n24\t醫院\n25\t內部\n26\t環境\n27\t不佳\n28\t，\n29\t就\n30\t像\n31\t病毒\n32\t超級\n33\t培養\n34\t皿\n35\t。\nSentence 5\nINDEX\tTEXT\n0\t方艙\n1\t醫院\n2\t患者\n3\t何\n4\t小姐\n5\t：\n6\t「\n7\t所有\n8\t的\n9\t人住\n10\t在\n11\t一起\n12\t，\n13\t我\n14\t擔心\n15\t交叉\n16\t感染\n17\t，\n18\t所以\n19\t當時\n20\t我\n21\t不\n22\t想來\n23\t。\n24\t」\nSentence 6\nINDEX\tTEXT\n0\t為了\n1\t扭轉\n2\t形象\n3\t，\n4\t中國\n5\t當局\n6\t找來\n7\t患者\n8\t現身\n9\t說法\n10\t，\n11\t而\n12\t現在\n13\t疫情\n14\t燒到\n15\t歐洲\n16\t，\n17\t當地\n18\t同樣\n19\t面臨\n20\t醫院\n21\t不足\n22\t的\n23\t窘境\n24\t，\n25\t不少\n26\t政府\n27\t正\n28\t在\n29\t計畫\n30\t把\n31\t暫停\n32\t營業\n33\t的\n34\t飯店\n35\t改成\n36\t醫院\n37\t。\nSentence 7\nINDEX\tTEXT\n0\t根據\n1\tCNN\n2\t報導\n3\t，\n4\t馬德里\n5\t地區\n6\t的\n7\t飯店\n8\t業者\n9\t就\n10\t提供\n11\t當局\n12\t40\n13\t間\n14\t飯店\n15\t，\n16\t如此\n17\t一\n18\t來\n19\t可\n20\t增加\n21\t9\n22\t千\n23\t個\n24\t床位\n25\t，\n26\t英國\n27\t幾\n28\t家\n29\t連鎖\n30\t飯\n31\t店業\n32\t者\n33\t也\n34\t正\n35\t在\n36\t跟\n37\t英國\n38\t國民\n39\t健保\n40\t署\n41\t討論\n42\t，\n43\t將\n44\t他們\n45\t的\n46\t飯店\n47\t改造\n48\t成\n49\t臨時\n50\t病房\n51\t。\nSentence 8\nINDEX\tTEXT\n0\t而\n1\t在\n2\t美國\n3\t疫情\n4\t震央\n5\t紐約\n6\t也\n7\t忙\n8\t著\n9\t把\n10\t會議\n11\t中心\n12\t飯店\n13\t或是\n14\t大學\n15\t宿舍\n16\t改建\n17\t成\n18\t臨時\n19\t醫院\n20\t，\n21\t非常\n22\t時期\n23\t現有\n24\t的\n25\t設施\n26\t派上\n27\t用\n28\t場\n29\t。\nSentence 9\nINDEX\tTEXT\n0\t新聞來源\n1\t：\n2\t華視\n3\t新聞\n"
    }
   ],
   "source": [
    "# test show content\n",
    "def show(doc):\n",
    "    for i in range(1821,1825):\n",
    "        for i,sent in enumerate(doc.sentences):\n",
    "            print (\"Sentence {}\\nINDEX\\tTEXT\".format(i+1))\n",
    "            for j,word in enumerate(sent.words):\n",
    "                print(\"{}\\t{}\".format(j,word.text))\n",
    "        i = i+1\n",
    "\n",
    "show(zh_annotated_doc)"
   ]
  },
  {
   "cell_type": "code",
   "execution_count": null,
   "metadata": {},
   "outputs": [],
   "source": [
    "# 匯出json\n"
   ]
  }
 ],
 "metadata": {
  "file_extension": ".py",
  "kernelspec": {
   "display_name": "Python 3",
   "language": "python",
   "name": "python3"
  },
  "language_info": {
   "codemirror_mode": {
    "name": "ipython",
    "version": 3
   },
   "file_extension": ".py",
   "mimetype": "text/x-python",
   "name": "python",
   "nbconvert_exporter": "python",
   "pygments_lexer": "ipython3",
   "version": "3.7.1-final"
  },
  "mimetype": "text/x-python",
  "name": "python",
  "npconvert_exporter": "python",
  "pygments_lexer": "ipython3",
  "version": 3
 },
 "nbformat": 4,
 "nbformat_minor": 2
}